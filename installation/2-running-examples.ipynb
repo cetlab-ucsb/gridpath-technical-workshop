{
 "cells": [
  {
   "cell_type": "markdown",
   "id": "e626a4c5-e005-4603-a1f5-b3b0203e130e",
   "metadata": {},
   "source": [
    "# Running Simple Example Models and Scenarios "
   ]
  },
  {
   "cell_type": "code",
   "execution_count": 4,
   "id": "59f3f8dd-683d-457a-8fc6-28b16090dc90",
   "metadata": {},
   "outputs": [],
   "source": [
    "import os"
   ]
  },
  {
   "cell_type": "code",
   "execution_count": 3,
   "id": "f8276fc2-cba9-40a8-b7a9-9a9b530ba305",
   "metadata": {},
   "outputs": [],
   "source": [
    "gp_path = '/Users/meas/Documents/gridpath-0.14.1'"
   ]
  },
  {
   "cell_type": "code",
   "execution_count": 6,
   "id": "64e87e46-8f66-495e-96be-932c1b793a9e",
   "metadata": {},
   "outputs": [],
   "source": [
    "os.chdir(gp_path)"
   ]
  },
  {
   "cell_type": "code",
   "execution_count": 10,
   "id": "678c8ca8-2b7f-4a4e-a00f-aae9e7b2b70c",
   "metadata": {},
   "outputs": [
    {
     "name": "stdout",
     "output_type": "stream",
     "text": [
      "/Users/meas/Documents/gridpath-0.14.1\n"
     ]
    }
   ],
   "source": [
    "!pwd"
   ]
  },
  {
   "cell_type": "code",
   "execution_count": 29,
   "id": "d6d36de1-8bae-4234-9e2f-3bb3fa2986be",
   "metadata": {},
   "outputs": [],
   "source": [
    "os.chdir(os.path.join(gp_path, 'db'))"
   ]
  },
  {
   "cell_type": "code",
   "execution_count": 12,
   "id": "b3d68df8-2265-4954-bde7-350da9d40bdf",
   "metadata": {},
   "outputs": [
    {
     "name": "stdout",
     "output_type": "stream",
     "text": [
      "/Users/meas/Documents/gridpath-0.14.1/db\n"
     ]
    }
   ],
   "source": [
    "!pwd"
   ]
  },
  {
   "cell_type": "code",
   "execution_count": 13,
   "id": "79259e7e-3d36-424a-8bc3-d1881f9b27ec",
   "metadata": {},
   "outputs": [
    {
     "name": "stdout",
     "output_type": "stream",
     "text": [
      "usage: create_database.py [-h] [--database DATABASE] [--db_schema DB_SCHEMA]\n",
      "                          [--in_memory] [--omit_data] [--custom_units]\n",
      "\n",
      "optional arguments:\n",
      "  -h, --help            show this help message and exit\n",
      "  --database DATABASE   The database file path relative to the current working\n",
      "                        directory. Defaults to ../db/io.db\n",
      "  --db_schema DB_SCHEMA\n",
      "                        Name of the SQL file containing the database schema.\n",
      "                        Assumed to be in same directory ascreate_database.py\n",
      "  --in_memory           Create in-memory database. The database argument will\n",
      "                        be inactive.\n",
      "  --omit_data           Don't load the model defaults data from the data\n",
      "                        directory.\n",
      "  --custom_units        Ask the user for custom units.\n"
     ]
    }
   ],
   "source": [
    "%run create_database.py --help"
   ]
  },
  {
   "cell_type": "code",
   "execution_count": 14,
   "id": "f6e0c9ad-dd26-4829-8a23-35ae97ffe40a",
   "metadata": {},
   "outputs": [],
   "source": [
    "%run create_database.py --database csv_examples.db"
   ]
  },
  {
   "cell_type": "code",
   "execution_count": 16,
   "id": "80d2fba3-02c7-47ee-b9b8-dff0e844e321",
   "metadata": {},
   "outputs": [
    {
     "name": "stdout",
     "output_type": "stream",
     "text": [
      "usage: port_csvs_to_db.py [-h] [--database DATABASE]\n",
      "                          [--csv_location CSV_LOCATION]\n",
      "                          [--subscenario SUBSCENARIO]\n",
      "                          [--subscenario_id SUBSCENARIO_ID]\n",
      "                          [--project PROJECT] [--delete] [--quiet]\n",
      "\n",
      "optional arguments:\n",
      "  -h, --help            show this help message and exit\n",
      "  --database DATABASE   The database file path relative to the current working\n",
      "                        directory. Defaults to ./io.db\n",
      "  --csv_location CSV_LOCATION\n",
      "                        Path to the csvs folder including folder name relative\n",
      "                        to the current working directory.\n",
      "  --subscenario SUBSCENARIO\n",
      "                        The subscenario to load. The script will look for the\n",
      "                        directory where data for the subscenario are located\n",
      "                        based on the csv_master file and will load all\n",
      "                        subscenario IDs located there.\n",
      "  --subscenario_id SUBSCENARIO_ID\n",
      "                        The subscenario ID to load. The '--subscenario'\n",
      "                        argument must also be specified. The script will look\n",
      "                        for the directory where data for the subscenario are\n",
      "                        located based on the csv_master file and will load the\n",
      "                        data for this subscenario ID.\n",
      "  --project PROJECT     The project for which to load data. The '--\n",
      "                        subscenario' and '--subscenario_id' arguments must\n",
      "                        also be specified, and this must be a project-level\n",
      "                        subscenario. The script will look for the directory\n",
      "                        where data for the subscenario are located based on\n",
      "                        the csv_master file and will load the data for this\n",
      "                        project and subscenario ID.\n",
      "  --delete              Delete prior data. Defaults to False.\n",
      "  --quiet               Don't print output. Defaults to False.\n"
     ]
    }
   ],
   "source": [
    "%run utilities/port_csvs_to_db.py --help"
   ]
  },
  {
   "cell_type": "code",
   "execution_count": 17,
   "id": "0b76f4c1-fc23-46ca-a9dc-0387b1b7c9a9",
   "metadata": {},
   "outputs": [],
   "source": [
    "%run utilities/port_csvs_to_db.py --database csv_examples.db --csv_location csvs_reds_102022 --quiet True"
   ]
  },
  {
   "cell_type": "code",
   "execution_count": 30,
   "id": "9a077f54-25e1-4ca1-8108-e2602529bae2",
   "metadata": {},
   "outputs": [
    {
     "name": "stdout",
     "output_type": "stream",
     "text": [
      "Loading scenarios...\n",
      "...env_r65_prm15_t1nn\n",
      "...env_r65_wk_simple1\n",
      "...env_r65_wk_simple2_unlimited_tx\n",
      "...env_r65_wk_simple3_1zone\n"
     ]
    }
   ],
   "source": [
    "%run utilities/scenario.py --database csv_examples.db --csv_path csvs_reds_102022/scenarios_workshop.csv"
   ]
  },
  {
   "cell_type": "code",
   "execution_count": 40,
   "id": "2cf21a21-abaf-45ab-be47-3970a0306a9c",
   "metadata": {},
   "outputs": [],
   "source": [
    "os.chdir(os.path.join(gp_path, 'gridpath'))"
   ]
  },
  {
   "cell_type": "code",
   "execution_count": 41,
   "id": "c3762fff-125f-47e6-a1d4-5fe9585f6c59",
   "metadata": {},
   "outputs": [
    {
     "name": "stdout",
     "output_type": "stream",
     "text": [
      "usage: run_end_to_end.py [-h] [--database DATABASE]\n",
      "                         [--scenario_id SCENARIO_ID] [--scenario SCENARIO]\n",
      "                         [--scenario_location SCENARIO_LOCATION] [--quiet]\n",
      "                         [--log] [--solver SOLVER]\n",
      "                         [--solver_executable SOLVER_EXECUTABLE]\n",
      "                         [--mute_solver_output]\n",
      "                         [--write_solver_files_to_logs_dir] [--keepfiles]\n",
      "                         [--symbolic] [--testing]\n",
      "                         [--n_parallel_solve N_PARALLEL_SOLVE]\n",
      "                         [--results_export_rule RESULTS_EXPORT_RULE]\n",
      "                         [--n_parallel_get_inputs N_PARALLEL_GET_INPUTS]\n",
      "                         [--skip_get_inputs] [--skip_run_scenario]\n",
      "                         [--skip_import_results] [--skip_process_results]\n",
      "                         [--single_e2e_step_only {get_inputs,run_scenario,import_results,process_results}]\n",
      "\n",
      "optional arguments:\n",
      "  -h, --help            show this help message and exit\n",
      "  --database DATABASE   The database file path relative to the current working\n",
      "                        directory. Defaults to ../db/io.db\n",
      "  --scenario_id SCENARIO_ID\n",
      "                        The scenario_id from the database. Not needed if\n",
      "                        scenario is specified.\n",
      "  --scenario SCENARIO   The scenario_name from the database. Not needed if\n",
      "                        scenario_id is specified.\n",
      "  --scenario_location SCENARIO_LOCATION\n",
      "                        The path to the directory in which to create the\n",
      "                        scenario directory. Defaults to '../scenarios' if not\n",
      "                        specified.\n",
      "  --quiet               Don't print run output.\n",
      "  --log                 Log output to a file in the scenario's 'logs'\n",
      "                        directory as well as the terminal.\n",
      "  --solver SOLVER       Name of the solver to use. GridPath will use Cbc if\n",
      "                        solver is not specified here and a\n",
      "                        'solver_options.csv' file does not exist in the\n",
      "                        scenario directory.\n",
      "  --solver_executable SOLVER_EXECUTABLE\n",
      "                        The path to the solver executable to use. This is\n",
      "                        optional; if you don't specify it, Pyomo will look for\n",
      "                        the solver executable in your PATH. The solver\n",
      "                        specified with the --solver option must be the same as\n",
      "                        the solver for which you are providing an executable.\n",
      "  --mute_solver_output  Don't print solver output.\n",
      "  --write_solver_files_to_logs_dir\n",
      "                        Write the temporary solver files to the logs\n",
      "                        directory.\n",
      "  --keepfiles           Save temporary solver files.\n",
      "  --symbolic            Use symbolic labels in solver files.\n",
      "  --testing             Flag for test suite runs. Results not saved.\n",
      "  --n_parallel_solve N_PARALLEL_SOLVE\n",
      "                        Solve n subproblems in parallel.\n",
      "  --results_export_rule RESULTS_EXPORT_RULE\n",
      "                        The name of the rule to use to decide whether to\n",
      "                        export results.\n",
      "  --n_parallel_get_inputs N_PARALLEL_GET_INPUTS\n",
      "                        Get inputs for n subproblems in parallel.\n",
      "  --skip_get_inputs     Skip the 'get_scenario_inputs' E2E step.\n",
      "  --skip_run_scenario   Skip the 'run_scenario' E2E step.\n",
      "  --skip_import_results\n",
      "                        Skip the 'import_scenario_results' E2E step.\n",
      "  --skip_process_results\n",
      "                        Skip the 'process_results' E2E step.\n",
      "  --single_e2e_step_only {get_inputs,run_scenario,import_results,process_results}\n",
      "                        Run only the specified E2E step. All others will be\n",
      "                        skipped.\n"
     ]
    }
   ],
   "source": [
    "%run run_end_to_end.py --help"
   ]
  },
  {
   "cell_type": "code",
   "execution_count": 42,
   "id": "4675f62d-2e89-4b4b-a120-39fb7801ffa8",
   "metadata": {
    "tags": []
   },
   "outputs": [
    {
     "name": "stdout",
     "output_type": "stream",
     "text": [
      "Running scenario env_r65_wk_simple3_1zone end to end\n",
      "Process ID is 30171\n",
      "End-to-end run started on 2022-10-21 15:05:38.107875\n",
      "Getting inputs... (connected to database ../db/csv_examples.db)\n",
      "\n",
      "Running optimization for scenario env_r65_wk_simple3_1zone\n",
      "Building model...\n",
      "Loading data...\n",
      "Creating problem instance...\n",
      "ERROR: Constructing component 'load_zone' from data={'E_AngCoast_Ang_BLMQ':\n",
      "    'Angola', 'E_Ang_Diesel': 'Angola', 'E_Ang_Gas_OCGT': 'Angola',\n",
      "    'E_Ang_Oil': 'Angola', 'E_Bot_Coal_Sub': 'Botswana', 'E_Bot_Diesel':\n",
      "    'Botswana', 'E_Buzi_Moz_Chicamba_Mavuzi': 'Mozambique',\n",
      "    'E_Congo_Ang_Chicapa': 'Angola', 'E_Congo_DRC_Inga_1_2': 'DRC',\n",
      "    'E_Congo_DRC_MwadingushaKoni': 'DRC', 'E_Congo_DRC_Nseke_Nzilo': 'DRC',\n",
      "    'E_Congo_DRC_Zongo_Imboulou': 'DRC', 'E_Congo_DRC_all_minihp': 'DRC',\n",
      "    'E_Congo_Zam_MusondaFalls': 'Zambia', 'E_Cunene_Ang_Matala_Gove':\n",
      "    'Angola', 'E_Cunene_Nam_Ruacana': 'Namibia', 'E_DRC_Diesel': 'DRC',\n",
      "    'E_Kwanza_Ang_Cambambe1': 'Angola', 'E_Kwanza_Ang_Capanda': 'Angola',\n",
      "    'E_LMalawi_Mal_KTN_Falls': 'Malawi', 'E_Limpopo_Bot_Dikgatlhong':\n",
      "    'Botswana', 'E_Limpopo_Zim_Manyuchi': 'Zimbabwe', 'E_Moz_Diesel':\n",
      "    'Mozambique', 'E_Moz_Gas_OCGT': 'Mozambique', 'E_Nam_Coal_Sub': 'Namibia',\n",
      "    'E_Nam_Diesel': 'Namibia', 'E_Nam_Oil': 'Namibia', 'E_Orange_Les_Muela':\n",
      "    'Lesotho', 'E_Orange_Nam_Vioolsdrift': 'Namibia',\n",
      "    'E_Orange_Sou_Gariep_Vanderkloof': 'SouthAfrica', 'E_Orange_Sou_Neusberg':\n",
      "    'SouthAfrica', 'E_Other_DRC_all': 'DRC', 'E_Other_Esw_E3M2': 'Eswatini',\n",
      "    'E_Other_Moz_Corumana': 'Mozambique', 'E_Other_Sou_CKNS': 'SouthAfrica',\n",
      "    'E_Other_Tan_all': 'Tanzania', 'E_Other_Zam_all': 'Zambia',\n",
      "    'E_Other_Zim_all': 'Zimbabwe', 'E_Rufiji_Tan_KKM': 'Tanzania',\n",
      "    'E_Sou_Bioenergy': 'SouthAfrica', 'E_Sou_Coal_Sub_Arnot': 'SouthAfrica',\n",
      "    'E_Sou_Coal_Sub_Camden': 'SouthAfrica', 'E_Sou_Coal_Sub_Duvha':\n",
      "    'SouthAfrica', 'E_Sou_Coal_Sub_Grootvlei': 'SouthAfrica',\n",
      "    'E_Sou_Coal_Sub_Hendrina': 'SouthAfrica', 'E_Sou_Coal_Sub_Kelvin':\n",
      "    'SouthAfrica', 'E_Sou_Coal_Sub_Kendal': 'SouthAfrica',\n",
      "    'E_Sou_Coal_Sub_Komati': 'SouthAfrica', 'E_Sou_Coal_Sub_Kriel':\n",
      "    'SouthAfrica', 'E_Sou_Coal_Sub_Kusile': 'SouthAfrica',\n",
      "    'E_Sou_Coal_Sub_Lethabo': 'SouthAfrica', 'E_Sou_Coal_Sub_Majuba':\n",
      "    'SouthAfrica', 'E_Sou_Coal_Sub_Matimba': 'SouthAfrica',\n",
      "    'E_Sou_Coal_Sub_Matla': 'SouthAfrica', 'E_Sou_Coal_Sub_Pretoria':\n",
      "    'SouthAfrica', 'E_Sou_Coal_Sub_Rooiwal': 'SouthAfrica',\n",
      "    'E_Sou_Coal_Sub_Tutuka': 'SouthAfrica', 'E_Sou_Diesel': 'SouthAfrica',\n",
      "    'E_Sou_Gas_OCGT_domprice': 'SouthAfrica', 'E_Sou_Nuclear': 'SouthAfrica',\n",
      "    'E_Sou_PStorage': 'SouthAfrica', 'E_Sou_SolarCSP': 'SouthAfrica',\n",
      "    'E_Sou_SolarPV': 'SouthAfrica', 'E_Sou_Wind': 'SouthAfrica',\n",
      "    'E_Tan_Bioenergy': 'Tanzania', 'E_Tan_Gas_OCGT': 'Tanzania', 'E_Tan_Oil':\n",
      "    'Tanzania', 'E_Zam_Coal_Sub_Maamba': 'Zambia', 'E_Zbezi_Moz_CBassa':\n",
      "    'Mozambique', 'E_Zbezi_Zam_ITT_KafueU': 'Zambia', 'E_Zbezi_Zam_KaribaN':\n",
      "    'Zambia', 'E_Zbezi_Zam_MMLL': 'Zambia', 'E_Zbezi_Zam_VictoriaFalls':\n",
      "    'Zambia', 'E_Zbezi_Zim_KaribaS': 'Zimbabwe', 'E_Zim_Coal_Sub': 'Zimbabwe',\n",
      "    'E_Zim_Diesel': 'Zimbabwe', 'P_AngCoast_Ang_Lomaum2': 'Angola',\n",
      "    'P_Ang_Battery': 'Angola', 'P_Ang_Gas_CCGT': 'Angola', 'P_Ang_Gas_ICE':\n",
      "    'Angola', 'P_Ang_Gas_OCGT': 'Angola', 'P_Bot_Battery': 'Botswana',\n",
      "    'P_Bot_Coal_Sub': 'Botswana', 'P_Bot_Coal_Sup': 'Botswana',\n",
      "    'P_Catumbela_Ang_Calengue': 'Angola', 'P_Congo_DRC_Busanga': 'DRC',\n",
      "    'P_Congo_DRC_Inga_3_BC': 'DRC', 'P_Congo_DRC_Inga_3_HC': 'DRC',\n",
      "    'P_Congo_DRC_Inga_4': 'DRC', 'P_Congo_DRC_Zongo2': 'DRC',\n",
      "    'P_Congo_Zam_Kalungwishi': 'Zambia', 'P_Congo_Zam_Luapula': 'Zambia',\n",
      "    'P_Congo_Zam_LumangweFalls': 'Zambia', 'P_Congo_Zam_MambilimaFalls1':\n",
      "    'Zambia', 'P_Congo_Zam_MambilimaFalls2': 'Zambia', 'P_Cunene_Ang_Baynes':\n",
      "    'Angola', 'P_Cunene_Ang_JambaYaMina': 'Angola', 'P_Cunene_Ang_JambaYaOma':\n",
      "    'Angola', 'P_Cunene_Nam_Baynes': 'Namibia', 'P_Cunene_Nam_Epupa':\n",
      "    'Namibia', 'P_DRC_Battery': 'DRC', 'P_DRC_Coal_Sub': 'DRC',\n",
      "    'P_DRC_Coal_Sup': 'DRC', 'P_Esw_Bioenergy': 'Eswatini', 'P_Esw_Coal_Sub':\n",
      "    'Eswatini', 'P_Keve_Ang_Cafula': 'Angola', 'P_Keve_Ang_Quilengue':\n",
      "    'Angola', 'P_Kwanza_Ang_CaculaCabaca': 'Angola', 'P_Kwanza_Ang_Cambambe2':\n",
      "    'Angola', 'P_Kwanza_Ang_Cutato1_3': 'Angola', 'P_Kwanza_Ang_Lauca':\n",
      "    'Angola', 'P_Kwanza_Ang_Nyanga': 'Angola', 'P_Kwanza_Ang_TumuludoCasador':\n",
      "    'Angola', 'P_Kwanza_Ang_Zenzo1': 'Angola', 'P_LMalawi_Mal_Fufu': 'Malawi',\n",
      "    'P_LMalawi_Mal_Hamilton': 'Malawi', 'P_LMalawi_Mal_KT_FallsX': 'Malawi',\n",
      "    'P_LMalawi_Mal_Kholombizo': 'Malawi', 'P_LMalawi_Mal_Mpatamanga':\n",
      "    'Malawi', 'P_LMalawi_Mal_Songwe': 'Malawi', 'P_LMalawi_Moz_Lurio':\n",
      "    'Mozambique', 'P_LMalawi_Tan_Kikonge': 'Tanzania',\n",
      "    'P_LMalawi_Tan_Masigira': 'Tanzania', 'P_LMalawi_Tan_Rumakali':\n",
      "    'Tanzania', 'P_LMalawi_Tan_Songwe_Bipungu': 'Tanzania',\n",
      "    'P_LMalawi_Tan_Songwe_Manolo': 'Tanzania', 'P_LMalawi_Tan_Songwe_Sofre':\n",
      "    'Tanzania', 'P_Les_Battery': 'Lesotho', 'P_Les_PStorage': 'Lesotho',\n",
      "    'P_Limpopo_Moz_Massingir_Mapai': 'Mozambique', 'P_Mal_Battery': 'Malawi',\n",
      "    'P_Mal_Bioenergy': 'Malawi', 'P_Mal_Coal_Sub': 'Malawi', 'P_Mal_Coal_Sup':\n",
      "    'Malawi', 'P_Mal_Diesel': 'Malawi', 'P_Mal_Oil': 'Malawi',\n",
      "    'P_Moz_Battery': 'Mozambique', 'P_Moz_Coal_Sub': 'Mozambique',\n",
      "    'P_Moz_Coal_Sup': 'Mozambique', 'P_Moz_Diesel': 'Mozambique',\n",
      "    'P_Moz_Gas_CCGT': 'Mozambique', 'P_Moz_Gas_ICE': 'Mozambique',\n",
      "    'P_Moz_Gas_OCGT': 'Mozambique', 'P_Nam_Battery': 'Namibia',\n",
      "    'P_Nam_Coal_Sub': 'Namibia', 'P_Nam_Gas_CCGT': 'Namibia', 'P_Nam_Gas_ICE':\n",
      "    'Namibia', 'P_Nam_Gas_OCGT': 'Namibia', 'P_Orange_Les_Mashai': 'Lesotho',\n",
      "    'P_Orange_Les_Muela2': 'Lesotho', 'P_Orange_Les_Oxbow': 'Lesotho',\n",
      "    'P_Orange_Nam_Boegoeberg': 'Namibia', 'P_Other_Esw_Ngwempisi': 'Eswatini',\n",
      "    'P_Other_Mal_Chasombo': 'Malawi', 'P_Other_Mal_Chizuma': 'Malawi',\n",
      "    'P_Other_Moz_LurioCua': 'Mozambique', 'P_Other_Moz_LurioQuedas':\n",
      "    'Mozambique', 'P_Other_Moz_Moamba': 'Mozambique', 'P_Other_Moz_Pavua':\n",
      "    'Mozambique', 'P_Other_Moz_Tsate': 'Mozambique', 'P_Other_Tan_Ikondo':\n",
      "    'Tanzania', 'P_Other_Tan_IringaIbosa': 'Tanzania', 'P_Other_Tan_Kakono':\n",
      "    'Tanzania', 'P_Other_Tan_Malagaresi': 'Tanzania', 'P_Other_Tan_Taveta':\n",
      "    'Tanzania', 'P_Other_Zam_Luchenene': 'Zambia', 'P_Other_Zam_Mkushi':\n",
      "    'Zambia', 'P_Other_Zam_Mutinondo': 'Zambia', 'P_Other_Zim_Condo':\n",
      "    'Zimbabwe', 'P_Other_Zim_Gairezi': 'Zimbabwe',\n",
      "    'P_Other_Zim_Gwayi_Shangani': 'Zimbabwe', 'P_Other_Zim_Nyatana':\n",
      "    'Zimbabwe', 'P_Rufiji_Tan_Mpanga': 'Tanzania', 'P_Rufiji_Tan_Ruhudji':\n",
      "    'Tanzania', 'P_Rufiji_Tan_SteiglersGorge1': 'Tanzania',\n",
      "    'P_Rufiji_Tan_SteiglersGorge2': 'Tanzania', 'P_Solar_AO_A': 'Angola',\n",
      "    'P_Solar_BW_O': 'Botswana', 'P_Solar_CD_AA': 'DRC', 'P_Solar_LS_D':\n",
      "    'Lesotho', 'P_Solar_MW_Y': 'Malawi', 'P_Solar_MZ_Y': 'Mozambique',\n",
      "    'P_Solar_NA_V': 'Namibia', 'P_Solar_TZ_Z': 'Tanzania', 'P_Solar_ZA_Y':\n",
      "    'SouthAfrica', 'P_Solar_ZM_Z': 'Zambia', 'P_Solar_ZW_A': 'Zimbabwe',\n",
      "    'P_Sou_Battery': 'SouthAfrica', 'P_Sou_Coal_Sub': 'SouthAfrica',\n",
      "    'P_Sou_Coal_Sup': 'SouthAfrica', 'P_Sou_Gas_CCGT_LNG': 'SouthAfrica',\n",
      "    'P_Sou_Gas_CCGT_domprice': 'SouthAfrica', 'P_Sou_Gas_ICE': 'SouthAfrica',\n",
      "    'P_Sou_Gas_ICE_LNG': 'SouthAfrica', 'P_Sou_Gas_OCGT_LNG': 'SouthAfrica',\n",
      "    'P_Sou_Gas_OCGT_domprice': 'SouthAfrica', 'P_Sou_Nuclear': 'SouthAfrica',\n",
      "    'P_Sou_PStorage': 'SouthAfrica', 'P_Swa_Battery': 'Eswatini',\n",
      "    'P_Tan_Battery': 'Tanzania', 'P_Tan_Coal_Sub': 'Tanzania',\n",
      "    'P_Tan_Coal_Sup': 'Tanzania', 'P_Tan_Gas_CCGT': 'Tanzania',\n",
      "    'P_Tan_Gas_ICE': 'Tanzania', 'P_Tan_Gas_OCGT': 'Tanzania',\n",
      "    'P_Tan_Geothermal': 'Tanzania', 'P_Wind_AO_T': 'Angola', 'P_Wind_BW_BC':\n",
      "    'Botswana', 'P_Wind_CD_Z': 'DRC', 'P_Wind_LS_A': 'Lesotho',\n",
      "    'P_Wind_MW_AA': 'Malawi', 'P_Wind_MZ_AA': 'Mozambique', 'P_Wind_NA_XX':\n",
      "    'Namibia', 'P_Wind_TZ_X': 'Tanzania', 'P_Wind_ZA_X': 'SouthAfrica',\n",
      "    'P_Wind_ZM_AA': 'Zambia', 'P_Wind_ZW_T': 'Zimbabwe', 'P_Zam_Battery':\n",
      "    'Zambia', 'P_Zam_Coal_Sub': 'Zambia', 'P_Zam_Coal_Sup': 'Zambia',\n",
      "    'P_Zam_Oil': 'Zambia', 'P_Zbezi_Moz_Boroma': 'Mozambique',\n",
      "    'P_Zbezi_Moz_CBassaX': 'Mozambique', 'P_Zbezi_Moz_Lupata': 'Mozambique',\n",
      "    'P_Zbezi_Moz_MPhanda': 'Mozambique', 'P_Zbezi_Zam_BatokaGorgeN': 'Zambia',\n",
      "    'P_Zbezi_Zam_DevilsGorgeN': 'Zambia', 'P_Zbezi_Zam_KafueL': 'Zambia',\n",
      "    'P_Zbezi_Zam_LLLK': 'Zambia', 'P_Zbezi_Zim_BatokaGorgeS': 'Zimbabwe',\n",
      "    'P_Zbezi_Zim_DevilsGorgeS': 'Zimbabwe', 'P_Zbezi_Zim_KaribaSX':\n",
      "    'Zimbabwe', 'P_Zim_Battery': 'Zimbabwe', 'P_Zim_Coal_Sub': 'Zimbabwe',\n",
      "    'P_Zim_Coal_Sup': 'Zimbabwe', 'P_Zim_Gas_CCGT': 'Zimbabwe',\n",
      "    'P_Zim_Gas_OCGT': 'Zimbabwe'} failed:\n",
      "        RuntimeError: Failed to set value for param=load_zone,\n",
      "        index=E_AngCoast_Ang_BLMQ, value=Angola.\n",
      "    \tsource error message=Invalid parameter value:\n",
      "    \tload_zone[E_AngCoast_Ang_BLMQ] = 'Angola', value type=<class 'str'>.\n",
      "    \tValue not in parameter domain LOAD_ZONES\n"
     ]
    },
    {
     "name": "stderr",
     "output_type": "stream",
     "text": [
      "ERROR:root:Failed to set value for param=load_zone, index=E_AngCoast_Ang_BLMQ, value=Angola.\n",
      "\tsource error message=Invalid parameter value: load_zone[E_AngCoast_Ang_BLMQ] = 'Angola', value type=<class 'str'>.\n",
      "\tValue not in parameter domain LOAD_ZONES\n",
      "Traceback (most recent call last):\n",
      "  File \"/Users/meas/env/gp14.1/lib/python3.8/site-packages/pyomo/core/base/param.py\", line 780, in construct\n",
      "    self._setitem_when_not_present(\n",
      "  File \"/Users/meas/env/gp14.1/lib/python3.8/site-packages/pyomo/core/base/param.py\", line 689, in _setitem_when_not_present\n",
      "    self._validate_value(index, value, _check_domain)\n",
      "  File \"/Users/meas/env/gp14.1/lib/python3.8/site-packages/pyomo/core/base/param.py\", line 706, in _validate_value\n",
      "    raise ValueError(\n",
      "ValueError: Invalid parameter value: load_zone[E_AngCoast_Ang_BLMQ] = 'Angola', value type=<class 'str'>.\n",
      "\tValue not in parameter domain LOAD_ZONES\n",
      "\n",
      "During handling of the above exception, another exception occurred:\n",
      "\n",
      "Traceback (most recent call last):\n",
      "  File \"/Users/meas/Documents/gridpath-0.14.1/gridpath/run_end_to_end.py\", line 376, in main\n",
      "    expected_objective_values = run_scenario.main(\n",
      "  File \"/Users/meas/Documents/gridpath-0.14.1/gridpath/run_scenario.py\", line 1084, in main\n",
      "    expected_objective_values = run_scenario(\n",
      "  File \"/Users/meas/Documents/gridpath-0.14.1/gridpath/run_scenario.py\", line 367, in run_scenario\n",
      "    run_optimization_for_subproblem(\n",
      "  File \"/Users/meas/Documents/gridpath-0.14.1/gridpath/run_scenario.py\", line 281, in run_optimization_for_subproblem\n",
      "    objective_values[subproblem] = run_optimization_for_subproblem_stage(\n",
      "  File \"/Users/meas/Documents/gridpath-0.14.1/gridpath/run_scenario.py\", line 213, in run_optimization_for_subproblem_stage\n",
      "    solved_instance, results, dynamic_components = create_and_solve_problem(\n",
      "  File \"/Users/meas/Documents/gridpath-0.14.1/gridpath/run_scenario.py\", line 118, in create_and_solve_problem\n",
      "    instance = create_problem_instance(model, scenario_data)\n",
      "  File \"/Users/meas/Documents/gridpath-0.14.1/gridpath/run_scenario.py\", line 616, in create_problem_instance\n",
      "    instance = model.create_instance(loaded_data)\n",
      "  File \"/Users/meas/env/gp14.1/lib/python3.8/site-packages/pyomo/core/base/PyomoModel.py\", line 696, in create_instance\n",
      "    instance.load( data,\n",
      "  File \"/Users/meas/env/gp14.1/lib/python3.8/site-packages/pyomo/core/base/PyomoModel.py\", line 733, in load\n",
      "    self._load_model_data(dp,\n",
      "  File \"/Users/meas/env/gp14.1/lib/python3.8/site-packages/pyomo/core/base/PyomoModel.py\", line 786, in _load_model_data\n",
      "    self._initialize_component(modeldata, namespaces, component_name, profile_memory)\n",
      "  File \"/Users/meas/env/gp14.1/lib/python3.8/site-packages/pyomo/core/base/PyomoModel.py\", line 824, in _initialize_component\n",
      "    declaration.construct(data)\n",
      "  File \"/Users/meas/env/gp14.1/lib/python3.8/site-packages/pyomo/core/base/param.py\", line 784, in construct\n",
      "    raise RuntimeError(\n",
      "RuntimeError: Failed to set value for param=load_zone, index=E_AngCoast_Ang_BLMQ, value=Angola.\n",
      "\tsource error message=Invalid parameter value: load_zone[E_AngCoast_Ang_BLMQ] = 'Angola', value type=<class 'str'>.\n",
      "\tValue not in parameter domain LOAD_ZONES\n"
     ]
    },
    {
     "name": "stdout",
     "output_type": "stream",
     "text": [
      "Error encountered when running scenario env_r65_wk_simple3_1zone. End time: 2022-10-21 15:06:39.633083.\n"
     ]
    },
    {
     "ename": "AssertionError",
     "evalue": "",
     "output_type": "error",
     "traceback": [
      "\u001b[0;31m---------------------------------------------------------------------------\u001b[0m",
      "\u001b[0;31mValueError\u001b[0m                                Traceback (most recent call last)",
      "File \u001b[0;32m~/env/gp14.1/lib/python3.8/site-packages/pyomo/core/base/param.py:780\u001b[0m, in \u001b[0;36mParam.construct\u001b[0;34m(self, data)\u001b[0m\n\u001b[1;32m    779\u001b[0m     \u001b[38;5;28;01mfor\u001b[39;00m key, val \u001b[38;5;129;01min\u001b[39;00m data_items:\n\u001b[0;32m--> 780\u001b[0m         \u001b[38;5;28;43mself\u001b[39;49m\u001b[38;5;241;43m.\u001b[39;49m\u001b[43m_setitem_when_not_present\u001b[49m\u001b[43m(\u001b[49m\n\u001b[1;32m    781\u001b[0m \u001b[43m            \u001b[49m\u001b[38;5;28;43mself\u001b[39;49m\u001b[38;5;241;43m.\u001b[39;49m\u001b[43m_validate_index\u001b[49m\u001b[43m(\u001b[49m\u001b[43mkey\u001b[49m\u001b[43m)\u001b[49m\u001b[43m,\u001b[49m\u001b[43m \u001b[49m\u001b[43mval\u001b[49m\u001b[43m)\u001b[49m\n\u001b[1;32m    782\u001b[0m \u001b[38;5;28;01mexcept\u001b[39;00m:\n",
      "File \u001b[0;32m~/env/gp14.1/lib/python3.8/site-packages/pyomo/core/base/param.py:689\u001b[0m, in \u001b[0;36mParam._setitem_when_not_present\u001b[0;34m(self, index, value, _check_domain)\u001b[0m\n\u001b[1;32m    687\u001b[0m \u001b[38;5;66;03m# Because we do not have a _ParamData, we cannot rely on the\u001b[39;00m\n\u001b[1;32m    688\u001b[0m \u001b[38;5;66;03m# validation that occurs in _ParamData.set_value()\u001b[39;00m\n\u001b[0;32m--> 689\u001b[0m \u001b[38;5;28;43mself\u001b[39;49m\u001b[38;5;241;43m.\u001b[39;49m\u001b[43m_validate_value\u001b[49m\u001b[43m(\u001b[49m\u001b[43mindex\u001b[49m\u001b[43m,\u001b[49m\u001b[43m \u001b[49m\u001b[43mvalue\u001b[49m\u001b[43m,\u001b[49m\u001b[43m \u001b[49m\u001b[43m_check_domain\u001b[49m\u001b[43m)\u001b[49m\n\u001b[1;32m    690\u001b[0m \u001b[38;5;28;01mreturn\u001b[39;00m value\n",
      "File \u001b[0;32m~/env/gp14.1/lib/python3.8/site-packages/pyomo/core/base/param.py:706\u001b[0m, in \u001b[0;36mParam._validate_value\u001b[0;34m(self, index, value, validate_domain, data)\u001b[0m\n\u001b[1;32m    705\u001b[0m         index \u001b[38;5;241m=\u001b[39m data\u001b[38;5;241m.\u001b[39mindex()\n\u001b[0;32m--> 706\u001b[0m     \u001b[38;5;28;01mraise\u001b[39;00m \u001b[38;5;167;01mValueError\u001b[39;00m(\n\u001b[1;32m    707\u001b[0m         \u001b[38;5;124m\"\u001b[39m\u001b[38;5;124mInvalid parameter value: \u001b[39m\u001b[38;5;132;01m%s\u001b[39;00m\u001b[38;5;124m[\u001b[39m\u001b[38;5;132;01m%s\u001b[39;00m\u001b[38;5;124m] = \u001b[39m\u001b[38;5;124m'\u001b[39m\u001b[38;5;132;01m%s\u001b[39;00m\u001b[38;5;124m'\u001b[39m\u001b[38;5;124m, value type=\u001b[39m\u001b[38;5;132;01m%s\u001b[39;00m\u001b[38;5;124m.\u001b[39m\u001b[38;5;130;01m\\n\u001b[39;00m\u001b[38;5;124m\"\u001b[39m\n\u001b[1;32m    708\u001b[0m         \u001b[38;5;124m\"\u001b[39m\u001b[38;5;130;01m\\t\u001b[39;00m\u001b[38;5;124mValue not in parameter domain \u001b[39m\u001b[38;5;132;01m%s\u001b[39;00m\u001b[38;5;124m\"\u001b[39m \u001b[38;5;241m%\u001b[39m\n\u001b[1;32m    709\u001b[0m         (\u001b[38;5;28mself\u001b[39m\u001b[38;5;241m.\u001b[39mname, index, value, \u001b[38;5;28mtype\u001b[39m(value), \u001b[38;5;28mself\u001b[39m\u001b[38;5;241m.\u001b[39mdomain\u001b[38;5;241m.\u001b[39mname))\n\u001b[1;32m    710\u001b[0m \u001b[38;5;28;01mif\u001b[39;00m \u001b[38;5;28mself\u001b[39m\u001b[38;5;241m.\u001b[39m_validate:\n",
      "\u001b[0;31mValueError\u001b[0m: Invalid parameter value: load_zone[E_AngCoast_Ang_BLMQ] = 'Angola', value type=<class 'str'>.\n\tValue not in parameter domain LOAD_ZONES",
      "\nDuring handling of the above exception, another exception occurred:\n",
      "\u001b[0;31mRuntimeError\u001b[0m                              Traceback (most recent call last)",
      "File \u001b[0;32m~/Documents/gridpath-0.14.1/gridpath/run_end_to_end.py:376\u001b[0m, in \u001b[0;36mmain\u001b[0;34m(args)\u001b[0m\n\u001b[1;32m    375\u001b[0m     run_scenario_args \u001b[38;5;241m=\u001b[39m args \u001b[38;5;241m+\u001b[39m [\u001b[38;5;124m\"\u001b[39m\u001b[38;5;124m--scenario\u001b[39m\u001b[38;5;124m\"\u001b[39m, scenario]\n\u001b[0;32m--> 376\u001b[0m     expected_objective_values \u001b[38;5;241m=\u001b[39m \u001b[43mrun_scenario\u001b[49m\u001b[38;5;241;43m.\u001b[39;49m\u001b[43mmain\u001b[49m\u001b[43m(\u001b[49m\n\u001b[1;32m    377\u001b[0m \u001b[43m        \u001b[49m\u001b[43margs\u001b[49m\u001b[38;5;241;43m=\u001b[39;49m\u001b[43mrun_scenario_args\u001b[49m\u001b[43m,\u001b[49m\n\u001b[1;32m    378\u001b[0m \u001b[43m    \u001b[49m\u001b[43m)\u001b[49m\n\u001b[1;32m    379\u001b[0m \u001b[38;5;28;01mexcept\u001b[39;00m \u001b[38;5;167;01mException\u001b[39;00m \u001b[38;5;28;01mas\u001b[39;00m e:\n",
      "File \u001b[0;32m~/Documents/gridpath-0.14.1/gridpath/run_scenario.py:1084\u001b[0m, in \u001b[0;36mmain\u001b[0;34m(args)\u001b[0m\n\u001b[1;32m   1083\u001b[0m \u001b[38;5;66;03m# Run the scenario (can be multiple optimization subproblems)\u001b[39;00m\n\u001b[0;32m-> 1084\u001b[0m expected_objective_values \u001b[38;5;241m=\u001b[39m \u001b[43mrun_scenario\u001b[49m\u001b[43m(\u001b[49m\n\u001b[1;32m   1085\u001b[0m \u001b[43m    \u001b[49m\u001b[43mscenario_directory\u001b[49m\u001b[38;5;241;43m=\u001b[39;49m\u001b[43mscenario_directory\u001b[49m\u001b[43m,\u001b[49m\n\u001b[1;32m   1086\u001b[0m \u001b[43m    \u001b[49m\u001b[43msubproblem_structure\u001b[49m\u001b[38;5;241;43m=\u001b[39;49m\u001b[43msubproblem_structure\u001b[49m\u001b[43m,\u001b[49m\n\u001b[1;32m   1087\u001b[0m \u001b[43m    \u001b[49m\u001b[43mparsed_arguments\u001b[49m\u001b[38;5;241;43m=\u001b[39;49m\u001b[43mparsed_args\u001b[49m\u001b[43m,\u001b[49m\n\u001b[1;32m   1088\u001b[0m \u001b[43m\u001b[49m\u001b[43m)\u001b[49m\n\u001b[1;32m   1090\u001b[0m \u001b[38;5;66;03m# Return the objective function values (used in testing)\u001b[39;00m\n",
      "File \u001b[0;32m~/Documents/gridpath-0.14.1/gridpath/run_scenario.py:367\u001b[0m, in \u001b[0;36mrun_scenario\u001b[0;34m(scenario_directory, subproblem_structure, parsed_arguments)\u001b[0m\n\u001b[1;32m    366\u001b[0m     objective_values[subproblem] \u001b[38;5;241m=\u001b[39m {}\n\u001b[0;32m--> 367\u001b[0m     \u001b[43mrun_optimization_for_subproblem\u001b[49m\u001b[43m(\u001b[49m\n\u001b[1;32m    368\u001b[0m \u001b[43m        \u001b[49m\u001b[43mscenario_directory\u001b[49m\u001b[38;5;241;43m=\u001b[39;49m\u001b[43mscenario_directory\u001b[49m\u001b[43m,\u001b[49m\n\u001b[1;32m    369\u001b[0m \u001b[43m        \u001b[49m\u001b[43msubproblem_structure\u001b[49m\u001b[38;5;241;43m=\u001b[39;49m\u001b[43msubproblem_structure\u001b[49m\u001b[43m,\u001b[49m\n\u001b[1;32m    370\u001b[0m \u001b[43m        \u001b[49m\u001b[43msubproblem\u001b[49m\u001b[38;5;241;43m=\u001b[39;49m\u001b[43msubproblem\u001b[49m\u001b[43m,\u001b[49m\n\u001b[1;32m    371\u001b[0m \u001b[43m        \u001b[49m\u001b[43mparsed_arguments\u001b[49m\u001b[38;5;241;43m=\u001b[39;49m\u001b[43mparsed_arguments\u001b[49m\u001b[43m,\u001b[49m\n\u001b[1;32m    372\u001b[0m \u001b[43m        \u001b[49m\u001b[43mobjective_values\u001b[49m\u001b[38;5;241;43m=\u001b[39;49m\u001b[43mobjective_values\u001b[49m\u001b[43m,\u001b[49m\n\u001b[1;32m    373\u001b[0m \u001b[43m    \u001b[49m\u001b[43m)\u001b[49m\n\u001b[1;32m    375\u001b[0m \u001b[38;5;66;03m# Should probably just remove this logic here and have a dictionary\u001b[39;00m\n\u001b[1;32m    376\u001b[0m \u001b[38;5;66;03m# for all objective functions\u001b[39;00m\n",
      "File \u001b[0;32m~/Documents/gridpath-0.14.1/gridpath/run_scenario.py:281\u001b[0m, in \u001b[0;36mrun_optimization_for_subproblem\u001b[0;34m(scenario_directory, subproblem_structure, subproblem, parsed_arguments, objective_values)\u001b[0m\n\u001b[1;32m    280\u001b[0m     stage_directory \u001b[38;5;241m=\u001b[39m \u001b[38;5;124m\"\u001b[39m\u001b[38;5;124m\"\u001b[39m\n\u001b[0;32m--> 281\u001b[0m     objective_values[subproblem] \u001b[38;5;241m=\u001b[39m \u001b[43mrun_optimization_for_subproblem_stage\u001b[49m\u001b[43m(\u001b[49m\n\u001b[1;32m    282\u001b[0m \u001b[43m        \u001b[49m\u001b[43mscenario_directory\u001b[49m\u001b[43m,\u001b[49m\n\u001b[1;32m    283\u001b[0m \u001b[43m        \u001b[49m\u001b[43msubproblem_directory\u001b[49m\u001b[43m,\u001b[49m\n\u001b[1;32m    284\u001b[0m \u001b[43m        \u001b[49m\u001b[43mstage_directory\u001b[49m\u001b[43m,\u001b[49m\n\u001b[1;32m    285\u001b[0m \u001b[43m        \u001b[49m\u001b[43mparsed_arguments\u001b[49m\u001b[43m,\u001b[49m\n\u001b[1;32m    286\u001b[0m \u001b[43m    \u001b[49m\u001b[43m)\u001b[49m\n\u001b[1;32m    287\u001b[0m \u001b[38;5;66;03m# Otherwise, run the stage problem\u001b[39;00m\n\u001b[1;32m    288\u001b[0m \u001b[38;5;28;01melse\u001b[39;00m:\n",
      "File \u001b[0;32m~/Documents/gridpath-0.14.1/gridpath/run_scenario.py:213\u001b[0m, in \u001b[0;36mrun_optimization_for_subproblem_stage\u001b[0;34m(scenario_directory, subproblem_directory, stage_directory, parsed_arguments)\u001b[0m\n\u001b[1;32m    212\u001b[0m \u001b[38;5;66;03m# Create problem instance and solve it\u001b[39;00m\n\u001b[0;32m--> 213\u001b[0m solved_instance, results, dynamic_components \u001b[38;5;241m=\u001b[39m \u001b[43mcreate_and_solve_problem\u001b[49m\u001b[43m(\u001b[49m\n\u001b[1;32m    214\u001b[0m \u001b[43m    \u001b[49m\u001b[43mscenario_directory\u001b[49m\u001b[43m,\u001b[49m\u001b[43m \u001b[49m\u001b[43msubproblem_directory\u001b[49m\u001b[43m,\u001b[49m\u001b[43m \u001b[49m\u001b[43mstage_directory\u001b[49m\u001b[43m,\u001b[49m\u001b[43m \u001b[49m\u001b[43mparsed_arguments\u001b[49m\n\u001b[1;32m    215\u001b[0m \u001b[43m\u001b[49m\u001b[43m)\u001b[49m\n\u001b[1;32m    217\u001b[0m \u001b[38;5;66;03m# Save the scenario results to disk\u001b[39;00m\n",
      "File \u001b[0;32m~/Documents/gridpath-0.14.1/gridpath/run_scenario.py:118\u001b[0m, in \u001b[0;36mcreate_and_solve_problem\u001b[0;34m(scenario_directory, subproblem, stage, parsed_arguments)\u001b[0m\n\u001b[1;32m    117\u001b[0m     \u001b[38;5;28mprint\u001b[39m(\u001b[38;5;124m\"\u001b[39m\u001b[38;5;124mCreating problem instance...\u001b[39m\u001b[38;5;124m\"\u001b[39m)\n\u001b[0;32m--> 118\u001b[0m instance \u001b[38;5;241m=\u001b[39m \u001b[43mcreate_problem_instance\u001b[49m\u001b[43m(\u001b[49m\u001b[43mmodel\u001b[49m\u001b[43m,\u001b[49m\u001b[43m \u001b[49m\u001b[43mscenario_data\u001b[49m\u001b[43m)\u001b[49m\n\u001b[1;32m    120\u001b[0m \u001b[38;5;66;03m# Fix variables if modules request so\u001b[39;00m\n",
      "File \u001b[0;32m~/Documents/gridpath-0.14.1/gridpath/run_scenario.py:616\u001b[0m, in \u001b[0;36mcreate_problem_instance\u001b[0;34m(model, loaded_data)\u001b[0m\n\u001b[1;32m    615\u001b[0m \u001b[38;5;66;03m# Create problem instance\u001b[39;00m\n\u001b[0;32m--> 616\u001b[0m instance \u001b[38;5;241m=\u001b[39m \u001b[43mmodel\u001b[49m\u001b[38;5;241;43m.\u001b[39;49m\u001b[43mcreate_instance\u001b[49m\u001b[43m(\u001b[49m\u001b[43mloaded_data\u001b[49m\u001b[43m)\u001b[49m\n\u001b[1;32m    617\u001b[0m \u001b[38;5;28;01mreturn\u001b[39;00m instance\n",
      "File \u001b[0;32m~/env/gp14.1/lib/python3.8/site-packages/pyomo/core/base/PyomoModel.py:696\u001b[0m, in \u001b[0;36mModel.create_instance\u001b[0;34m(self, filename, data, name, namespace, namespaces, profile_memory, report_timing, **kwds)\u001b[0m\n\u001b[1;32m    694\u001b[0m     _namespaces\u001b[38;5;241m.\u001b[39mappend(\u001b[38;5;28;01mNone\u001b[39;00m)\n\u001b[0;32m--> 696\u001b[0m \u001b[43minstance\u001b[49m\u001b[38;5;241;43m.\u001b[39;49m\u001b[43mload\u001b[49m\u001b[43m(\u001b[49m\u001b[43m \u001b[49m\u001b[43mdata\u001b[49m\u001b[43m,\u001b[49m\n\u001b[1;32m    697\u001b[0m \u001b[43m               \u001b[49m\u001b[43mnamespaces\u001b[49m\u001b[38;5;241;43m=\u001b[39;49m\u001b[43m_namespaces\u001b[49m\u001b[43m,\u001b[49m\n\u001b[1;32m    698\u001b[0m \u001b[43m               \u001b[49m\u001b[43mprofile_memory\u001b[49m\u001b[38;5;241;43m=\u001b[39;49m\u001b[43mprofile_memory\u001b[49m\u001b[43m \u001b[49m\u001b[43m)\u001b[49m\n\u001b[1;32m    700\u001b[0m \u001b[38;5;66;03m#\u001b[39;00m\n\u001b[1;32m    701\u001b[0m \u001b[38;5;66;03m# Indicate that the model is concrete/constructed\u001b[39;00m\n\u001b[1;32m    702\u001b[0m \u001b[38;5;66;03m#\u001b[39;00m\n",
      "File \u001b[0;32m~/env/gp14.1/lib/python3.8/site-packages/pyomo/core/base/PyomoModel.py:733\u001b[0m, in \u001b[0;36mModel.load\u001b[0;34m(self, arg, namespaces, profile_memory)\u001b[0m\n\u001b[1;32m    732\u001b[0m     \u001b[38;5;28;01mraise\u001b[39;00m \u001b[38;5;167;01mValueError\u001b[39;00m(msg \u001b[38;5;241m%\u001b[39m \u001b[38;5;28mstr\u001b[39m( \u001b[38;5;28mtype\u001b[39m(arg) ))\n\u001b[0;32m--> 733\u001b[0m \u001b[38;5;28;43mself\u001b[39;49m\u001b[38;5;241;43m.\u001b[39;49m\u001b[43m_load_model_data\u001b[49m\u001b[43m(\u001b[49m\u001b[43mdp\u001b[49m\u001b[43m,\u001b[49m\n\u001b[1;32m    734\u001b[0m \u001b[43m                      \u001b[49m\u001b[43mnamespaces\u001b[49m\u001b[43m,\u001b[49m\n\u001b[1;32m    735\u001b[0m \u001b[43m                      \u001b[49m\u001b[43mprofile_memory\u001b[49m\u001b[38;5;241;43m=\u001b[39;49m\u001b[43mprofile_memory\u001b[49m\u001b[43m)\u001b[49m\n",
      "File \u001b[0;32m~/env/gp14.1/lib/python3.8/site-packages/pyomo/core/base/PyomoModel.py:786\u001b[0m, in \u001b[0;36mModel._load_model_data\u001b[0;34m(self, modeldata, namespaces, **kwds)\u001b[0m\n\u001b[1;32m    784\u001b[0m         \u001b[38;5;28;01mcontinue\u001b[39;00m\n\u001b[0;32m--> 786\u001b[0m     \u001b[38;5;28;43mself\u001b[39;49m\u001b[38;5;241;43m.\u001b[39;49m\u001b[43m_initialize_component\u001b[49m\u001b[43m(\u001b[49m\u001b[43mmodeldata\u001b[49m\u001b[43m,\u001b[49m\u001b[43m \u001b[49m\u001b[43mnamespaces\u001b[49m\u001b[43m,\u001b[49m\u001b[43m \u001b[49m\u001b[43mcomponent_name\u001b[49m\u001b[43m,\u001b[49m\u001b[43m \u001b[49m\u001b[43mprofile_memory\u001b[49m\u001b[43m)\u001b[49m\n\u001b[1;32m    788\u001b[0m \u001b[38;5;66;03m# Note: As is, connectors are expanded when using command-line pyomo but not calling model.create(...) in a Python script.\u001b[39;00m\n\u001b[1;32m    789\u001b[0m \u001b[38;5;66;03m# John says this has to do with extension points which are called from commandline but not when writing scripts.\u001b[39;00m\n\u001b[1;32m    790\u001b[0m \u001b[38;5;66;03m# Uncommenting the next two lines switches this (command-line fails because it tries to expand connectors twice)\u001b[39;00m\n\u001b[1;32m    791\u001b[0m \u001b[38;5;66;03m#connector_expander = ConnectorExpander()\u001b[39;00m\n\u001b[1;32m    792\u001b[0m \u001b[38;5;66;03m#connector_expander.apply(instance=self)\u001b[39;00m\n",
      "File \u001b[0;32m~/env/gp14.1/lib/python3.8/site-packages/pyomo/core/base/PyomoModel.py:824\u001b[0m, in \u001b[0;36mModel._initialize_component\u001b[0;34m(self, modeldata, namespaces, component_name, profile_memory)\u001b[0m\n\u001b[1;32m    823\u001b[0m \u001b[38;5;28;01mtry\u001b[39;00m:\n\u001b[0;32m--> 824\u001b[0m     \u001b[43mdeclaration\u001b[49m\u001b[38;5;241;43m.\u001b[39;49m\u001b[43mconstruct\u001b[49m\u001b[43m(\u001b[49m\u001b[43mdata\u001b[49m\u001b[43m)\u001b[49m\n\u001b[1;32m    825\u001b[0m \u001b[38;5;28;01mexcept\u001b[39;00m:\n",
      "File \u001b[0;32m~/env/gp14.1/lib/python3.8/site-packages/pyomo/core/base/param.py:784\u001b[0m, in \u001b[0;36mParam.construct\u001b[0;34m(self, data)\u001b[0m\n\u001b[1;32m    783\u001b[0m     msg \u001b[38;5;241m=\u001b[39m sys\u001b[38;5;241m.\u001b[39mexc_info()[\u001b[38;5;241m1\u001b[39m]\n\u001b[0;32m--> 784\u001b[0m     \u001b[38;5;28;01mraise\u001b[39;00m \u001b[38;5;167;01mRuntimeError\u001b[39;00m(\n\u001b[1;32m    785\u001b[0m         \u001b[38;5;124m\"\u001b[39m\u001b[38;5;124mFailed to set value for param=\u001b[39m\u001b[38;5;132;01m%s\u001b[39;00m\u001b[38;5;124m, index=\u001b[39m\u001b[38;5;132;01m%s\u001b[39;00m\u001b[38;5;124m, value=\u001b[39m\u001b[38;5;132;01m%s\u001b[39;00m\u001b[38;5;124m.\u001b[39m\u001b[38;5;130;01m\\n\u001b[39;00m\u001b[38;5;124m\"\u001b[39m\n\u001b[1;32m    786\u001b[0m         \u001b[38;5;124m\"\u001b[39m\u001b[38;5;130;01m\\t\u001b[39;00m\u001b[38;5;124msource error message=\u001b[39m\u001b[38;5;132;01m%s\u001b[39;00m\u001b[38;5;124m\"\u001b[39m\n\u001b[1;32m    787\u001b[0m         \u001b[38;5;241m%\u001b[39m (\u001b[38;5;28mself\u001b[39m\u001b[38;5;241m.\u001b[39mname, \u001b[38;5;28mstr\u001b[39m(key), \u001b[38;5;28mstr\u001b[39m(val), \u001b[38;5;28mstr\u001b[39m(msg)) )\n\u001b[1;32m    788\u001b[0m \u001b[38;5;66;03m#\u001b[39;00m\n\u001b[1;32m    789\u001b[0m \u001b[38;5;66;03m# Flag that things are fully constructed now (and changing an\u001b[39;00m\n\u001b[1;32m    790\u001b[0m \u001b[38;5;66;03m# immutable Param is now an exception).\u001b[39;00m\n\u001b[1;32m    791\u001b[0m \u001b[38;5;66;03m#\u001b[39;00m\n",
      "\u001b[0;31mRuntimeError\u001b[0m: Failed to set value for param=load_zone, index=E_AngCoast_Ang_BLMQ, value=Angola.\n\tsource error message=Invalid parameter value: load_zone[E_AngCoast_Ang_BLMQ] = 'Angola', value type=<class 'str'>.\n\tValue not in parameter domain LOAD_ZONES",
      "\nDuring handling of the above exception, another exception occurred:\n",
      "\u001b[0;31mSystemExit\u001b[0m                                Traceback (most recent call last)",
      "File \u001b[0;32m~/env/gp14.1/lib/python3.8/site-packages/IPython/core/interactiveshell.py:2742\u001b[0m, in \u001b[0;36mInteractiveShell.safe_execfile\u001b[0;34m(self, fname, exit_ignore, raise_exceptions, shell_futures, *where)\u001b[0m\n\u001b[1;32m   2741\u001b[0m     glob, loc \u001b[38;5;241m=\u001b[39m (where \u001b[38;5;241m+\u001b[39m (\u001b[38;5;28;01mNone\u001b[39;00m, ))[:\u001b[38;5;241m2\u001b[39m]\n\u001b[0;32m-> 2742\u001b[0m     \u001b[43mpy3compat\u001b[49m\u001b[38;5;241;43m.\u001b[39;49m\u001b[43mexecfile\u001b[49m\u001b[43m(\u001b[49m\n\u001b[1;32m   2743\u001b[0m \u001b[43m        \u001b[49m\u001b[43mfname\u001b[49m\u001b[43m,\u001b[49m\u001b[43m \u001b[49m\u001b[43mglob\u001b[49m\u001b[43m,\u001b[49m\u001b[43m \u001b[49m\u001b[43mloc\u001b[49m\u001b[43m,\u001b[49m\n\u001b[1;32m   2744\u001b[0m \u001b[43m        \u001b[49m\u001b[38;5;28;43mself\u001b[39;49m\u001b[38;5;241;43m.\u001b[39;49m\u001b[43mcompile\u001b[49m\u001b[43m \u001b[49m\u001b[38;5;28;43;01mif\u001b[39;49;00m\u001b[43m \u001b[49m\u001b[43mshell_futures\u001b[49m\u001b[43m \u001b[49m\u001b[38;5;28;43;01melse\u001b[39;49;00m\u001b[43m \u001b[49m\u001b[38;5;28;43;01mNone\u001b[39;49;00m\u001b[43m)\u001b[49m\n\u001b[1;32m   2745\u001b[0m \u001b[38;5;28;01mexcept\u001b[39;00m \u001b[38;5;167;01mSystemExit\u001b[39;00m \u001b[38;5;28;01mas\u001b[39;00m status:\n\u001b[1;32m   2746\u001b[0m     \u001b[38;5;66;03m# If the call was made with 0 or None exit status (sys.exit(0)\u001b[39;00m\n\u001b[1;32m   2747\u001b[0m     \u001b[38;5;66;03m# or sys.exit() ), don't bother showing a traceback, as both of\u001b[39;00m\n\u001b[0;32m   (...)\u001b[0m\n\u001b[1;32m   2753\u001b[0m     \u001b[38;5;66;03m# For other exit status, we show the exception unless\u001b[39;00m\n\u001b[1;32m   2754\u001b[0m     \u001b[38;5;66;03m# explicitly silenced, but only in short form.\u001b[39;00m\n",
      "File \u001b[0;32m~/env/gp14.1/lib/python3.8/site-packages/IPython/utils/py3compat.py:55\u001b[0m, in \u001b[0;36mexecfile\u001b[0;34m(fname, glob, loc, compiler)\u001b[0m\n\u001b[1;32m     54\u001b[0m compiler \u001b[38;5;241m=\u001b[39m compiler \u001b[38;5;129;01mor\u001b[39;00m \u001b[38;5;28mcompile\u001b[39m\n\u001b[0;32m---> 55\u001b[0m \u001b[43mexec\u001b[49m\u001b[43m(\u001b[49m\u001b[43mcompiler\u001b[49m\u001b[43m(\u001b[49m\u001b[43mf\u001b[49m\u001b[38;5;241;43m.\u001b[39;49m\u001b[43mread\u001b[49m\u001b[43m(\u001b[49m\u001b[43m)\u001b[49m\u001b[43m,\u001b[49m\u001b[43m \u001b[49m\u001b[43mfname\u001b[49m\u001b[43m,\u001b[49m\u001b[43m \u001b[49m\u001b[38;5;124;43m\"\u001b[39;49m\u001b[38;5;124;43mexec\u001b[39;49m\u001b[38;5;124;43m\"\u001b[39;49m\u001b[43m)\u001b[49m\u001b[43m,\u001b[49m\u001b[43m \u001b[49m\u001b[43mglob\u001b[49m\u001b[43m,\u001b[49m\u001b[43m \u001b[49m\u001b[43mloc\u001b[49m\u001b[43m)\u001b[49m\n",
      "File \u001b[0;32m~/Documents/gridpath-0.14.1/gridpath/run_end_to_end.py:523\u001b[0m\n\u001b[1;32m    522\u001b[0m \u001b[38;5;28;01mif\u001b[39;00m \u001b[38;5;18m__name__\u001b[39m \u001b[38;5;241m==\u001b[39m \u001b[38;5;124m\"\u001b[39m\u001b[38;5;124m__main__\u001b[39m\u001b[38;5;124m\"\u001b[39m:\n\u001b[0;32m--> 523\u001b[0m     \u001b[43mmain\u001b[49m\u001b[43m(\u001b[49m\u001b[43margs\u001b[49m\u001b[38;5;241;43m=\u001b[39;49m\u001b[43msys\u001b[49m\u001b[38;5;241;43m.\u001b[39;49m\u001b[43margv\u001b[49m\u001b[43m[\u001b[49m\u001b[38;5;241;43m1\u001b[39;49m\u001b[43m:\u001b[49m\u001b[43m]\u001b[49m\u001b[43m)\u001b[49m\n",
      "File \u001b[0;32m~/Documents/gridpath-0.14.1/gridpath/run_end_to_end.py:393\u001b[0m, in \u001b[0;36mmain\u001b[0;34m(args)\u001b[0m\n\u001b[1;32m    388\u001b[0m         \u001b[38;5;28mprint\u001b[39m(\n\u001b[1;32m    389\u001b[0m             \u001b[38;5;124m\"\u001b[39m\u001b[38;5;124mError encountered when running scenario \u001b[39m\u001b[38;5;132;01m{}\u001b[39;00m\u001b[38;5;124m. End time: \u001b[39m\u001b[38;5;132;01m{}\u001b[39;00m\u001b[38;5;124m.\u001b[39m\u001b[38;5;124m\"\u001b[39m\u001b[38;5;241m.\u001b[39mformat(\n\u001b[1;32m    390\u001b[0m                 scenario, end_time\n\u001b[1;32m    391\u001b[0m             )\n\u001b[1;32m    392\u001b[0m         )\n\u001b[0;32m--> 393\u001b[0m         \u001b[43msys\u001b[49m\u001b[38;5;241;43m.\u001b[39;49m\u001b[43mexit\u001b[49m\u001b[43m(\u001b[49m\u001b[38;5;241;43m1\u001b[39;49m\u001b[43m)\u001b[49m\n\u001b[1;32m    394\u001b[0m \u001b[38;5;28;01melse\u001b[39;00m:\n",
      "\u001b[0;31mSystemExit\u001b[0m: 1",
      "\nDuring handling of the above exception, another exception occurred:\n",
      "\u001b[0;31mAssertionError\u001b[0m                            Traceback (most recent call last)",
      "Cell \u001b[0;32mIn [42], line 1\u001b[0m\n\u001b[0;32m----> 1\u001b[0m \u001b[43mget_ipython\u001b[49m\u001b[43m(\u001b[49m\u001b[43m)\u001b[49m\u001b[38;5;241;43m.\u001b[39;49m\u001b[43mrun_line_magic\u001b[49m\u001b[43m(\u001b[49m\u001b[38;5;124;43m'\u001b[39;49m\u001b[38;5;124;43mrun\u001b[39;49m\u001b[38;5;124;43m'\u001b[39;49m\u001b[43m,\u001b[49m\u001b[43m \u001b[49m\u001b[38;5;124;43m'\u001b[39;49m\u001b[38;5;124;43mrun_end_to_end.py --database ../db/csv_examples.db --scenario env_r65_wk_simple3_1zone\u001b[39;49m\u001b[38;5;124;43m'\u001b[39;49m\u001b[43m)\u001b[49m\n",
      "File \u001b[0;32m~/env/gp14.1/lib/python3.8/site-packages/IPython/core/interactiveshell.py:2309\u001b[0m, in \u001b[0;36mInteractiveShell.run_line_magic\u001b[0;34m(self, magic_name, line, _stack_depth)\u001b[0m\n\u001b[1;32m   2307\u001b[0m     kwargs[\u001b[38;5;124m'\u001b[39m\u001b[38;5;124mlocal_ns\u001b[39m\u001b[38;5;124m'\u001b[39m] \u001b[38;5;241m=\u001b[39m \u001b[38;5;28mself\u001b[39m\u001b[38;5;241m.\u001b[39mget_local_scope(stack_depth)\n\u001b[1;32m   2308\u001b[0m \u001b[38;5;28;01mwith\u001b[39;00m \u001b[38;5;28mself\u001b[39m\u001b[38;5;241m.\u001b[39mbuiltin_trap:\n\u001b[0;32m-> 2309\u001b[0m     result \u001b[38;5;241m=\u001b[39m \u001b[43mfn\u001b[49m\u001b[43m(\u001b[49m\u001b[38;5;241;43m*\u001b[39;49m\u001b[43margs\u001b[49m\u001b[43m,\u001b[49m\u001b[43m \u001b[49m\u001b[38;5;241;43m*\u001b[39;49m\u001b[38;5;241;43m*\u001b[39;49m\u001b[43mkwargs\u001b[49m\u001b[43m)\u001b[49m\n\u001b[1;32m   2310\u001b[0m \u001b[38;5;28;01mreturn\u001b[39;00m result\n",
      "File \u001b[0;32m~/env/gp14.1/lib/python3.8/site-packages/IPython/core/magics/execution.py:829\u001b[0m, in \u001b[0;36mExecutionMagics.run\u001b[0;34m(self, parameter_s, runner, file_finder)\u001b[0m\n\u001b[1;32m    826\u001b[0m             \u001b[38;5;28mself\u001b[39m\u001b[38;5;241m.\u001b[39m_run_with_timing(run, nruns)\n\u001b[1;32m    827\u001b[0m         \u001b[38;5;28;01melse\u001b[39;00m:\n\u001b[1;32m    828\u001b[0m             \u001b[38;5;66;03m# regular execution\u001b[39;00m\n\u001b[0;32m--> 829\u001b[0m             \u001b[43mrun\u001b[49m\u001b[43m(\u001b[49m\u001b[43m)\u001b[49m\n\u001b[1;32m    831\u001b[0m \u001b[38;5;28;01mif\u001b[39;00m \u001b[38;5;124m'\u001b[39m\u001b[38;5;124mi\u001b[39m\u001b[38;5;124m'\u001b[39m \u001b[38;5;129;01min\u001b[39;00m opts:\n\u001b[1;32m    832\u001b[0m     \u001b[38;5;28mself\u001b[39m\u001b[38;5;241m.\u001b[39mshell\u001b[38;5;241m.\u001b[39muser_ns[\u001b[38;5;124m'\u001b[39m\u001b[38;5;124m__name__\u001b[39m\u001b[38;5;124m'\u001b[39m] \u001b[38;5;241m=\u001b[39m __name__save\n",
      "File \u001b[0;32m~/env/gp14.1/lib/python3.8/site-packages/IPython/core/magics/execution.py:814\u001b[0m, in \u001b[0;36mExecutionMagics.run.<locals>.run\u001b[0;34m()\u001b[0m\n\u001b[1;32m    813\u001b[0m \u001b[38;5;28;01mdef\u001b[39;00m \u001b[38;5;21mrun\u001b[39m():\n\u001b[0;32m--> 814\u001b[0m     \u001b[43mrunner\u001b[49m\u001b[43m(\u001b[49m\u001b[43mfilename\u001b[49m\u001b[43m,\u001b[49m\u001b[43m \u001b[49m\u001b[43mprog_ns\u001b[49m\u001b[43m,\u001b[49m\u001b[43m \u001b[49m\u001b[43mprog_ns\u001b[49m\u001b[43m,\u001b[49m\n\u001b[1;32m    815\u001b[0m \u001b[43m            \u001b[49m\u001b[43mexit_ignore\u001b[49m\u001b[38;5;241;43m=\u001b[39;49m\u001b[43mexit_ignore\u001b[49m\u001b[43m)\u001b[49m\n",
      "File \u001b[0;32m~/env/gp14.1/lib/python3.8/site-packages/IPython/core/interactiveshell.py:2759\u001b[0m, in \u001b[0;36mInteractiveShell.safe_execfile\u001b[0;34m(self, fname, exit_ignore, raise_exceptions, shell_futures, *where)\u001b[0m\n\u001b[1;32m   2757\u001b[0m             \u001b[38;5;28;01mraise\u001b[39;00m\n\u001b[1;32m   2758\u001b[0m         \u001b[38;5;28;01mif\u001b[39;00m \u001b[38;5;129;01mnot\u001b[39;00m exit_ignore:\n\u001b[0;32m-> 2759\u001b[0m             \u001b[38;5;28;43mself\u001b[39;49m\u001b[38;5;241;43m.\u001b[39;49m\u001b[43mshowtraceback\u001b[49m\u001b[43m(\u001b[49m\u001b[43mexception_only\u001b[49m\u001b[38;5;241;43m=\u001b[39;49m\u001b[38;5;28;43;01mTrue\u001b[39;49;00m\u001b[43m)\u001b[49m\n\u001b[1;32m   2760\u001b[0m \u001b[38;5;28;01mexcept\u001b[39;00m:\n\u001b[1;32m   2761\u001b[0m     \u001b[38;5;28;01mif\u001b[39;00m raise_exceptions:\n",
      "File \u001b[0;32m~/env/gp14.1/lib/python3.8/site-packages/IPython/core/interactiveshell.py:1987\u001b[0m, in \u001b[0;36mInteractiveShell.showtraceback\u001b[0;34m(self, exc_tuple, filename, tb_offset, exception_only, running_compiled_code)\u001b[0m\n\u001b[1;32m   1984\u001b[0m \u001b[38;5;28;01mif\u001b[39;00m exception_only:\n\u001b[1;32m   1985\u001b[0m     stb \u001b[38;5;241m=\u001b[39m [\u001b[38;5;124m'\u001b[39m\u001b[38;5;124mAn exception has occurred, use \u001b[39m\u001b[38;5;124m%\u001b[39m\u001b[38;5;124mtb to see \u001b[39m\u001b[38;5;124m'\u001b[39m\n\u001b[1;32m   1986\u001b[0m            \u001b[38;5;124m'\u001b[39m\u001b[38;5;124mthe full traceback.\u001b[39m\u001b[38;5;130;01m\\n\u001b[39;00m\u001b[38;5;124m'\u001b[39m]\n\u001b[0;32m-> 1987\u001b[0m     stb\u001b[38;5;241m.\u001b[39mextend(\u001b[38;5;28;43mself\u001b[39;49m\u001b[38;5;241;43m.\u001b[39;49m\u001b[43mInteractiveTB\u001b[49m\u001b[38;5;241;43m.\u001b[39;49m\u001b[43mget_exception_only\u001b[49m\u001b[43m(\u001b[49m\u001b[43metype\u001b[49m\u001b[43m,\u001b[49m\n\u001b[1;32m   1988\u001b[0m \u001b[43m                                                     \u001b[49m\u001b[43mvalue\u001b[49m\u001b[43m)\u001b[49m)\n\u001b[1;32m   1989\u001b[0m \u001b[38;5;28;01melse\u001b[39;00m:\n\u001b[1;32m   1990\u001b[0m     \u001b[38;5;28;01mtry\u001b[39;00m:\n\u001b[1;32m   1991\u001b[0m         \u001b[38;5;66;03m# Exception classes can customise their traceback - we\u001b[39;00m\n\u001b[1;32m   1992\u001b[0m         \u001b[38;5;66;03m# use this in IPython.parallel for exceptions occurring\u001b[39;00m\n\u001b[1;32m   1993\u001b[0m         \u001b[38;5;66;03m# in the engines. This should return a list of strings.\u001b[39;00m\n",
      "File \u001b[0;32m~/env/gp14.1/lib/python3.8/site-packages/IPython/core/ultratb.py:579\u001b[0m, in \u001b[0;36mListTB.get_exception_only\u001b[0;34m(self, etype, value)\u001b[0m\n\u001b[1;32m    571\u001b[0m \u001b[38;5;28;01mdef\u001b[39;00m \u001b[38;5;21mget_exception_only\u001b[39m(\u001b[38;5;28mself\u001b[39m, etype, value):\n\u001b[1;32m    572\u001b[0m     \u001b[38;5;124;03m\"\"\"Only print the exception type and message, without a traceback.\u001b[39;00m\n\u001b[1;32m    573\u001b[0m \n\u001b[1;32m    574\u001b[0m \u001b[38;5;124;03m    Parameters\u001b[39;00m\n\u001b[0;32m   (...)\u001b[0m\n\u001b[1;32m    577\u001b[0m \u001b[38;5;124;03m    value : exception value\u001b[39;00m\n\u001b[1;32m    578\u001b[0m \u001b[38;5;124;03m    \"\"\"\u001b[39;00m\n\u001b[0;32m--> 579\u001b[0m     \u001b[38;5;28;01mreturn\u001b[39;00m \u001b[43mListTB\u001b[49m\u001b[38;5;241;43m.\u001b[39;49m\u001b[43mstructured_traceback\u001b[49m\u001b[43m(\u001b[49m\u001b[38;5;28;43mself\u001b[39;49m\u001b[43m,\u001b[49m\u001b[43m \u001b[49m\u001b[43metype\u001b[49m\u001b[43m,\u001b[49m\u001b[43m \u001b[49m\u001b[43mvalue\u001b[49m\u001b[43m)\u001b[49m\n",
      "File \u001b[0;32m~/env/gp14.1/lib/python3.8/site-packages/IPython/core/ultratb.py:446\u001b[0m, in \u001b[0;36mListTB.structured_traceback\u001b[0;34m(self, etype, evalue, etb, tb_offset, context)\u001b[0m\n\u001b[1;32m    443\u001b[0m     chained_exc_ids\u001b[38;5;241m.\u001b[39madd(\u001b[38;5;28mid\u001b[39m(exception[\u001b[38;5;241m1\u001b[39m]))\n\u001b[1;32m    444\u001b[0m     chained_exceptions_tb_offset \u001b[38;5;241m=\u001b[39m \u001b[38;5;241m0\u001b[39m\n\u001b[1;32m    445\u001b[0m     out_list \u001b[38;5;241m=\u001b[39m (\n\u001b[0;32m--> 446\u001b[0m         \u001b[38;5;28;43mself\u001b[39;49m\u001b[38;5;241;43m.\u001b[39;49m\u001b[43mstructured_traceback\u001b[49m\u001b[43m(\u001b[49m\n\u001b[1;32m    447\u001b[0m \u001b[43m            \u001b[49m\u001b[43metype\u001b[49m\u001b[43m,\u001b[49m\u001b[43m \u001b[49m\u001b[43mevalue\u001b[49m\u001b[43m,\u001b[49m\u001b[43m \u001b[49m\u001b[43m(\u001b[49m\u001b[43metb\u001b[49m\u001b[43m,\u001b[49m\u001b[43m \u001b[49m\u001b[43mchained_exc_ids\u001b[49m\u001b[43m)\u001b[49m\u001b[43m,\u001b[49m\n\u001b[1;32m    448\u001b[0m \u001b[43m            \u001b[49m\u001b[43mchained_exceptions_tb_offset\u001b[49m\u001b[43m,\u001b[49m\u001b[43m \u001b[49m\u001b[43mcontext\u001b[49m\u001b[43m)\u001b[49m\n\u001b[1;32m    449\u001b[0m         \u001b[38;5;241m+\u001b[39m chained_exception_message\n\u001b[1;32m    450\u001b[0m         \u001b[38;5;241m+\u001b[39m out_list)\n\u001b[1;32m    452\u001b[0m \u001b[38;5;28;01mreturn\u001b[39;00m out_list\n",
      "File \u001b[0;32m~/env/gp14.1/lib/python3.8/site-packages/IPython/core/ultratb.py:1112\u001b[0m, in \u001b[0;36mAutoFormattedTB.structured_traceback\u001b[0;34m(self, etype, value, tb, tb_offset, number_of_lines_of_context)\u001b[0m\n\u001b[1;32m   1110\u001b[0m \u001b[38;5;28;01melse\u001b[39;00m:\n\u001b[1;32m   1111\u001b[0m     \u001b[38;5;28mself\u001b[39m\u001b[38;5;241m.\u001b[39mtb \u001b[38;5;241m=\u001b[39m tb\n\u001b[0;32m-> 1112\u001b[0m \u001b[38;5;28;01mreturn\u001b[39;00m \u001b[43mFormattedTB\u001b[49m\u001b[38;5;241;43m.\u001b[39;49m\u001b[43mstructured_traceback\u001b[49m\u001b[43m(\u001b[49m\n\u001b[1;32m   1113\u001b[0m \u001b[43m    \u001b[49m\u001b[38;5;28;43mself\u001b[39;49m\u001b[43m,\u001b[49m\u001b[43m \u001b[49m\u001b[43metype\u001b[49m\u001b[43m,\u001b[49m\u001b[43m \u001b[49m\u001b[43mvalue\u001b[49m\u001b[43m,\u001b[49m\u001b[43m \u001b[49m\u001b[43mtb\u001b[49m\u001b[43m,\u001b[49m\u001b[43m \u001b[49m\u001b[43mtb_offset\u001b[49m\u001b[43m,\u001b[49m\u001b[43m \u001b[49m\u001b[43mnumber_of_lines_of_context\u001b[49m\u001b[43m)\u001b[49m\n",
      "File \u001b[0;32m~/env/gp14.1/lib/python3.8/site-packages/IPython/core/ultratb.py:1006\u001b[0m, in \u001b[0;36mFormattedTB.structured_traceback\u001b[0;34m(self, etype, value, tb, tb_offset, number_of_lines_of_context)\u001b[0m\n\u001b[1;32m   1003\u001b[0m mode \u001b[38;5;241m=\u001b[39m \u001b[38;5;28mself\u001b[39m\u001b[38;5;241m.\u001b[39mmode\n\u001b[1;32m   1004\u001b[0m \u001b[38;5;28;01mif\u001b[39;00m mode \u001b[38;5;129;01min\u001b[39;00m \u001b[38;5;28mself\u001b[39m\u001b[38;5;241m.\u001b[39mverbose_modes:\n\u001b[1;32m   1005\u001b[0m     \u001b[38;5;66;03m# Verbose modes need a full traceback\u001b[39;00m\n\u001b[0;32m-> 1006\u001b[0m     \u001b[38;5;28;01mreturn\u001b[39;00m \u001b[43mVerboseTB\u001b[49m\u001b[38;5;241;43m.\u001b[39;49m\u001b[43mstructured_traceback\u001b[49m\u001b[43m(\u001b[49m\n\u001b[1;32m   1007\u001b[0m \u001b[43m        \u001b[49m\u001b[38;5;28;43mself\u001b[39;49m\u001b[43m,\u001b[49m\u001b[43m \u001b[49m\u001b[43metype\u001b[49m\u001b[43m,\u001b[49m\u001b[43m \u001b[49m\u001b[43mvalue\u001b[49m\u001b[43m,\u001b[49m\u001b[43m \u001b[49m\u001b[43mtb\u001b[49m\u001b[43m,\u001b[49m\u001b[43m \u001b[49m\u001b[43mtb_offset\u001b[49m\u001b[43m,\u001b[49m\u001b[43m \u001b[49m\u001b[43mnumber_of_lines_of_context\u001b[49m\n\u001b[1;32m   1008\u001b[0m \u001b[43m    \u001b[49m\u001b[43m)\u001b[49m\n\u001b[1;32m   1009\u001b[0m \u001b[38;5;28;01melif\u001b[39;00m mode \u001b[38;5;241m==\u001b[39m \u001b[38;5;124m'\u001b[39m\u001b[38;5;124mMinimal\u001b[39m\u001b[38;5;124m'\u001b[39m:\n\u001b[1;32m   1010\u001b[0m     \u001b[38;5;28;01mreturn\u001b[39;00m ListTB\u001b[38;5;241m.\u001b[39mget_exception_only(\u001b[38;5;28mself\u001b[39m, etype, value)\n",
      "File \u001b[0;32m~/env/gp14.1/lib/python3.8/site-packages/IPython/core/ultratb.py:859\u001b[0m, in \u001b[0;36mVerboseTB.structured_traceback\u001b[0;34m(self, etype, evalue, etb, tb_offset, number_of_lines_of_context)\u001b[0m\n\u001b[1;32m    850\u001b[0m \u001b[38;5;28;01mdef\u001b[39;00m \u001b[38;5;21mstructured_traceback\u001b[39m(\n\u001b[1;32m    851\u001b[0m     \u001b[38;5;28mself\u001b[39m,\n\u001b[1;32m    852\u001b[0m     etype: \u001b[38;5;28mtype\u001b[39m,\n\u001b[0;32m   (...)\u001b[0m\n\u001b[1;32m    856\u001b[0m     number_of_lines_of_context: \u001b[38;5;28mint\u001b[39m \u001b[38;5;241m=\u001b[39m \u001b[38;5;241m5\u001b[39m,\n\u001b[1;32m    857\u001b[0m ):\n\u001b[1;32m    858\u001b[0m     \u001b[38;5;124;03m\"\"\"Return a nice text document describing the traceback.\"\"\"\u001b[39;00m\n\u001b[0;32m--> 859\u001b[0m     formatted_exception \u001b[38;5;241m=\u001b[39m \u001b[38;5;28;43mself\u001b[39;49m\u001b[38;5;241;43m.\u001b[39;49m\u001b[43mformat_exception_as_a_whole\u001b[49m\u001b[43m(\u001b[49m\u001b[43metype\u001b[49m\u001b[43m,\u001b[49m\u001b[43m \u001b[49m\u001b[43mevalue\u001b[49m\u001b[43m,\u001b[49m\u001b[43m \u001b[49m\u001b[43metb\u001b[49m\u001b[43m,\u001b[49m\u001b[43m \u001b[49m\u001b[43mnumber_of_lines_of_context\u001b[49m\u001b[43m,\u001b[49m\n\u001b[1;32m    860\u001b[0m \u001b[43m                                                           \u001b[49m\u001b[43mtb_offset\u001b[49m\u001b[43m)\u001b[49m\n\u001b[1;32m    862\u001b[0m     colors \u001b[38;5;241m=\u001b[39m \u001b[38;5;28mself\u001b[39m\u001b[38;5;241m.\u001b[39mColors  \u001b[38;5;66;03m# just a shorthand + quicker name lookup\u001b[39;00m\n\u001b[1;32m    863\u001b[0m     colorsnormal \u001b[38;5;241m=\u001b[39m colors\u001b[38;5;241m.\u001b[39mNormal  \u001b[38;5;66;03m# used a lot\u001b[39;00m\n",
      "File \u001b[0;32m~/env/gp14.1/lib/python3.8/site-packages/IPython/core/ultratb.py:793\u001b[0m, in \u001b[0;36mVerboseTB.format_exception_as_a_whole\u001b[0;34m(self, etype, evalue, etb, number_of_lines_of_context, tb_offset)\u001b[0m\n\u001b[1;32m    790\u001b[0m \u001b[38;5;28;01massert\u001b[39;00m \u001b[38;5;28misinstance\u001b[39m(tb_offset, \u001b[38;5;28mint\u001b[39m)\n\u001b[1;32m    791\u001b[0m head \u001b[38;5;241m=\u001b[39m \u001b[38;5;28mself\u001b[39m\u001b[38;5;241m.\u001b[39mprepare_header(etype, \u001b[38;5;28mself\u001b[39m\u001b[38;5;241m.\u001b[39mlong_header)\n\u001b[1;32m    792\u001b[0m records \u001b[38;5;241m=\u001b[39m (\n\u001b[0;32m--> 793\u001b[0m     \u001b[38;5;28;43mself\u001b[39;49m\u001b[38;5;241;43m.\u001b[39;49m\u001b[43mget_records\u001b[49m\u001b[43m(\u001b[49m\u001b[43metb\u001b[49m\u001b[43m,\u001b[49m\u001b[43m \u001b[49m\u001b[43mnumber_of_lines_of_context\u001b[49m\u001b[43m,\u001b[49m\u001b[43m \u001b[49m\u001b[43mtb_offset\u001b[49m\u001b[43m)\u001b[49m \u001b[38;5;28;01mif\u001b[39;00m etb \u001b[38;5;28;01melse\u001b[39;00m []\n\u001b[1;32m    794\u001b[0m )\n\u001b[1;32m    796\u001b[0m frames \u001b[38;5;241m=\u001b[39m []\n\u001b[1;32m    797\u001b[0m skipped \u001b[38;5;241m=\u001b[39m \u001b[38;5;241m0\u001b[39m\n",
      "File \u001b[0;32m~/env/gp14.1/lib/python3.8/site-packages/IPython/core/ultratb.py:848\u001b[0m, in \u001b[0;36mVerboseTB.get_records\u001b[0;34m(self, etb, number_of_lines_of_context, tb_offset)\u001b[0m\n\u001b[1;32m    842\u001b[0m     formatter \u001b[38;5;241m=\u001b[39m \u001b[38;5;28;01mNone\u001b[39;00m\n\u001b[1;32m    843\u001b[0m options \u001b[38;5;241m=\u001b[39m stack_data\u001b[38;5;241m.\u001b[39mOptions(\n\u001b[1;32m    844\u001b[0m     before\u001b[38;5;241m=\u001b[39mbefore,\n\u001b[1;32m    845\u001b[0m     after\u001b[38;5;241m=\u001b[39mafter,\n\u001b[1;32m    846\u001b[0m     pygments_formatter\u001b[38;5;241m=\u001b[39mformatter,\n\u001b[1;32m    847\u001b[0m )\n\u001b[0;32m--> 848\u001b[0m \u001b[38;5;28;01mreturn\u001b[39;00m \u001b[38;5;28;43mlist\u001b[39;49m\u001b[43m(\u001b[49m\u001b[43mstack_data\u001b[49m\u001b[38;5;241;43m.\u001b[39;49m\u001b[43mFrameInfo\u001b[49m\u001b[38;5;241;43m.\u001b[39;49m\u001b[43mstack_data\u001b[49m\u001b[43m(\u001b[49m\u001b[43metb\u001b[49m\u001b[43m,\u001b[49m\u001b[43m \u001b[49m\u001b[43moptions\u001b[49m\u001b[38;5;241;43m=\u001b[39;49m\u001b[43moptions\u001b[49m\u001b[43m)\u001b[49m\u001b[43m)\u001b[49m[tb_offset:]\n",
      "File \u001b[0;32m~/env/gp14.1/lib/python3.8/site-packages/stack_data/core.py:578\u001b[0m, in \u001b[0;36mFrameInfo.stack_data\u001b[0;34m(cls, frame_or_tb, options, collapse_repeated_frames)\u001b[0m\n\u001b[1;32m    562\u001b[0m \u001b[38;5;129m@classmethod\u001b[39m\n\u001b[1;32m    563\u001b[0m \u001b[38;5;28;01mdef\u001b[39;00m \u001b[38;5;21mstack_data\u001b[39m(\n\u001b[1;32m    564\u001b[0m         \u001b[38;5;28mcls\u001b[39m,\n\u001b[0;32m   (...)\u001b[0m\n\u001b[1;32m    568\u001b[0m         collapse_repeated_frames: \u001b[38;5;28mbool\u001b[39m \u001b[38;5;241m=\u001b[39m \u001b[38;5;28;01mTrue\u001b[39;00m\n\u001b[1;32m    569\u001b[0m ) \u001b[38;5;241m-\u001b[39m\u001b[38;5;241m>\u001b[39m Iterator[Union[\u001b[38;5;124m'\u001b[39m\u001b[38;5;124mFrameInfo\u001b[39m\u001b[38;5;124m'\u001b[39m, RepeatedFrames]]:\n\u001b[1;32m    570\u001b[0m     \u001b[38;5;124;03m\"\"\"\u001b[39;00m\n\u001b[1;32m    571\u001b[0m \u001b[38;5;124;03m    An iterator of FrameInfo and RepeatedFrames objects representing\u001b[39;00m\n\u001b[1;32m    572\u001b[0m \u001b[38;5;124;03m    a full traceback or stack. Similar consecutive frames are collapsed into RepeatedFrames\u001b[39;00m\n\u001b[0;32m   (...)\u001b[0m\n\u001b[1;32m    576\u001b[0m \u001b[38;5;124;03m    and optionally an Options object to configure.\u001b[39;00m\n\u001b[1;32m    577\u001b[0m \u001b[38;5;124;03m    \"\"\"\u001b[39;00m\n\u001b[0;32m--> 578\u001b[0m     stack \u001b[38;5;241m=\u001b[39m \u001b[38;5;28;43mlist\u001b[39;49m\u001b[43m(\u001b[49m\u001b[43miter_stack\u001b[49m\u001b[43m(\u001b[49m\u001b[43mframe_or_tb\u001b[49m\u001b[43m)\u001b[49m\u001b[43m)\u001b[49m\n\u001b[1;32m    580\u001b[0m     \u001b[38;5;66;03m# Reverse the stack from a frame so that it's in the same order\u001b[39;00m\n\u001b[1;32m    581\u001b[0m     \u001b[38;5;66;03m# as the order from a traceback, which is the order of a printed\u001b[39;00m\n\u001b[1;32m    582\u001b[0m     \u001b[38;5;66;03m# traceback when read top to bottom (most recent call last)\u001b[39;00m\n\u001b[1;32m    583\u001b[0m     \u001b[38;5;28;01mif\u001b[39;00m is_frame(frame_or_tb):\n",
      "File \u001b[0;32m~/env/gp14.1/lib/python3.8/site-packages/stack_data/utils.py:98\u001b[0m, in \u001b[0;36miter_stack\u001b[0;34m(frame_or_tb)\u001b[0m\n\u001b[1;32m     96\u001b[0m \u001b[38;5;28;01mwhile\u001b[39;00m frame_or_tb:\n\u001b[1;32m     97\u001b[0m     \u001b[38;5;28;01myield\u001b[39;00m frame_or_tb\n\u001b[0;32m---> 98\u001b[0m     \u001b[38;5;28;01mif\u001b[39;00m \u001b[43mis_frame\u001b[49m\u001b[43m(\u001b[49m\u001b[43mframe_or_tb\u001b[49m\u001b[43m)\u001b[49m:\n\u001b[1;32m     99\u001b[0m         frame_or_tb \u001b[38;5;241m=\u001b[39m frame_or_tb\u001b[38;5;241m.\u001b[39mf_back\n\u001b[1;32m    100\u001b[0m     \u001b[38;5;28;01melse\u001b[39;00m:\n",
      "File \u001b[0;32m~/env/gp14.1/lib/python3.8/site-packages/stack_data/utils.py:91\u001b[0m, in \u001b[0;36mis_frame\u001b[0;34m(frame_or_tb)\u001b[0m\n\u001b[1;32m     90\u001b[0m \u001b[38;5;28;01mdef\u001b[39;00m \u001b[38;5;21mis_frame\u001b[39m(frame_or_tb: Union[FrameType, TracebackType]) \u001b[38;5;241m-\u001b[39m\u001b[38;5;241m>\u001b[39m \u001b[38;5;28mbool\u001b[39m:\n\u001b[0;32m---> 91\u001b[0m     \u001b[43massert_\u001b[49m\u001b[43m(\u001b[49m\u001b[38;5;28;43misinstance\u001b[39;49m\u001b[43m(\u001b[49m\u001b[43mframe_or_tb\u001b[49m\u001b[43m,\u001b[49m\u001b[43m \u001b[49m\u001b[43m(\u001b[49m\u001b[43mtypes\u001b[49m\u001b[38;5;241;43m.\u001b[39;49m\u001b[43mFrameType\u001b[49m\u001b[43m,\u001b[49m\u001b[43m \u001b[49m\u001b[43mtypes\u001b[49m\u001b[38;5;241;43m.\u001b[39;49m\u001b[43mTracebackType\u001b[49m\u001b[43m)\u001b[49m\u001b[43m)\u001b[49m\u001b[43m)\u001b[49m\n\u001b[1;32m     92\u001b[0m     \u001b[38;5;28;01mreturn\u001b[39;00m \u001b[38;5;28misinstance\u001b[39m(frame_or_tb, (types\u001b[38;5;241m.\u001b[39mFrameType,))\n",
      "File \u001b[0;32m~/env/gp14.1/lib/python3.8/site-packages/stack_data/utils.py:172\u001b[0m, in \u001b[0;36massert_\u001b[0;34m(condition, error)\u001b[0m\n\u001b[1;32m    170\u001b[0m \u001b[38;5;28;01mif\u001b[39;00m \u001b[38;5;28misinstance\u001b[39m(error, \u001b[38;5;28mstr\u001b[39m):\n\u001b[1;32m    171\u001b[0m     error \u001b[38;5;241m=\u001b[39m \u001b[38;5;167;01mAssertionError\u001b[39;00m(error)\n\u001b[0;32m--> 172\u001b[0m \u001b[38;5;28;01mraise\u001b[39;00m error\n",
      "\u001b[0;31mAssertionError\u001b[0m: "
     ]
    }
   ],
   "source": [
    "%run run_end_to_end.py --database ../db/csv_examples.db --scenario env_r65_wk_simple3_1zone"
   ]
  },
  {
   "cell_type": "code",
   "execution_count": null,
   "id": "aed3186a-66d6-40ba-8b2c-72f93ff1a8e0",
   "metadata": {},
   "outputs": [],
   "source": []
  },
  {
   "cell_type": "markdown",
   "id": "aa859278-21fc-4882-9cf7-e02626ab43cc",
   "metadata": {},
   "source": [
    "## Visualizations"
   ]
  },
  {
   "cell_type": "code",
   "execution_count": 34,
   "id": "b0e8e539-f1a1-42b1-95ca-30955f16effb",
   "metadata": {},
   "outputs": [],
   "source": [
    "os.chdir(os.path.join(gp_path, 'viz'))"
   ]
  },
  {
   "cell_type": "code",
   "execution_count": 35,
   "id": "02d59ee4-1000-4793-a849-69edbb0e93c1",
   "metadata": {},
   "outputs": [
    {
     "name": "stdout",
     "output_type": "stream",
     "text": [
      "usage: capacity_total_plot.py [-h] [--database DATABASE]\n",
      "                              [--plot_write_directory PLOT_WRITE_DIRECTORY]\n",
      "                              [--scenario_name_in_title] [--ylimit YLIMIT]\n",
      "                              [--show] [--return_json]\n",
      "                              [--scenario_id SCENARIO_ID]\n",
      "                              [--scenario SCENARIO] --load_zone LOAD_ZONE\n",
      "                              [--subproblem SUBPROBLEM] [--stage STAGE]\n",
      "\n",
      "optional arguments:\n",
      "  -h, --help            show this help message and exit\n",
      "  --database DATABASE   The database file path relative to the current working\n",
      "                        directory. Defaults to ../db/io.db\n",
      "  --plot_write_directory PLOT_WRITE_DIRECTORY\n",
      "                        The path to the base directory in which to save the\n",
      "                        plot html file. Note: the file will be saved in a\n",
      "                        subfolder of this base directory, generally\n",
      "                        'scenario_name/results/figures'\n",
      "  --scenario_name_in_title\n",
      "                        Include the scenario name in the plot title.\n",
      "  --ylimit YLIMIT       Set y-axis limit.\n",
      "  --show                Show figure and save html file\n",
      "  --return_json         Return plot as a json file.\n",
      "  --scenario_id SCENARIO_ID\n",
      "                        The scenario ID. Required if no --scenario is\n",
      "                        specified.\n",
      "  --scenario SCENARIO   The scenario name. Required if no --scenario_id is\n",
      "                        specified.\n",
      "  --load_zone LOAD_ZONE\n",
      "                        The name of the load zone. Required.\n",
      "  --subproblem SUBPROBLEM\n",
      "                        The subproblem ID. Defaults to 1.\n",
      "  --stage STAGE         The stage ID. Defaults to 1.\n"
     ]
    }
   ],
   "source": [
    "%run capacity_total_plot.py --help"
   ]
  },
  {
   "cell_type": "code",
   "execution_count": 39,
   "id": "75ab756e-4d9f-455a-943b-592f1be5db49",
   "metadata": {},
   "outputs": [],
   "source": [
    "%run capacity_total_plot.py --database ../db/csv_examples.db --scenario env_r65_wk_simple1 --load_zone Namibia --show"
   ]
  },
  {
   "cell_type": "code",
   "execution_count": null,
   "id": "106db313-e37d-47be-b785-cab8cdc0b72a",
   "metadata": {},
   "outputs": [],
   "source": []
  }
 ],
 "metadata": {
  "kernelspec": {
   "display_name": "Python 3 (ipykernel)",
   "language": "python",
   "name": "python3"
  },
  "language_info": {
   "codemirror_mode": {
    "name": "ipython",
    "version": 3
   },
   "file_extension": ".py",
   "mimetype": "text/x-python",
   "name": "python",
   "nbconvert_exporter": "python",
   "pygments_lexer": "ipython3",
   "version": "3.8.10"
  }
 },
 "nbformat": 4,
 "nbformat_minor": 5
}
