{
 "cells": [
  {
   "cell_type": "markdown",
   "id": "fc907716-d8ef-44ea-99b5-c0ea1f39e0ca",
   "metadata": {},
   "source": [
    "# Running simplified SAPP models"
   ]
  },
  {
   "cell_type": "markdown",
   "id": "f46dabaf-3789-4662-80cb-145edaf24c8c",
   "metadata": {},
   "source": [
    "## Loading necessary packages"
   ]
  },
  {
   "cell_type": "code",
   "execution_count": null,
   "id": "02dcabf4-370d-4afb-94fe-d87e12da7c31",
   "metadata": {},
   "outputs": [],
   "source": [
    "import os"
   ]
  },
  {
   "cell_type": "markdown",
   "id": "bf61c283-61e5-4e76-bbc6-0f4384a8003c",
   "metadata": {},
   "source": [
    "### Input your root GridPath directory"
   ]
  },
  {
   "cell_type": "markdown",
   "id": "216ba1e4-df39-49f8-ad54-a3e0f29747c4",
   "metadata": {},
   "source": [
    "In the cell below, paste your root GridPath path between the quotation marks. Be sure to comment out the part that is not your operating system."
   ]
  },
  {
   "cell_type": "code",
   "execution_count": null,
   "id": "f4e01c4a-022d-469b-8cdf-e421b0c1d5c5",
   "metadata": {},
   "outputs": [],
   "source": [
    "gp_path = 'C:\\\\Users\\\\mmeng.NETID' # windows\n",
    "gp_path = '/Users/meas/Documents/gridpath-0.14.1' # macOS"
   ]
  },
  {
   "cell_type": "markdown",
   "id": "0694986e-468f-41d9-af09-c1333b2a24f5",
   "metadata": {},
   "source": [
    "This line below sets the working directory to your root GridPath path:"
   ]
  },
  {
   "cell_type": "code",
   "execution_count": null,
   "id": "6c939443-018c-4cd6-8206-c891c32d9652",
   "metadata": {},
   "outputs": [],
   "source": [
    "os.chdir(gp_path)"
   ]
  },
  {
   "cell_type": "markdown",
   "id": "77423b98-1956-41e2-8afb-9661e57fb29c",
   "metadata": {},
   "source": [
    "Check the working directory is correctly set:"
   ]
  },
  {
   "cell_type": "code",
   "execution_count": null,
   "id": "f71c5e2a-34ad-421c-b4e1-96ab0d6cb9ca",
   "metadata": {},
   "outputs": [],
   "source": [
    "os.getcwd()"
   ]
  },
  {
   "cell_type": "markdown",
   "id": "4151eaca-c13d-46a3-9c06-81a0970f3316",
   "metadata": {},
   "source": [
    "## Create a .db file"
   ]
  },
  {
   "cell_type": "markdown",
   "id": "0d7c8dca-182c-4410-8688-dd79535b2a09",
   "metadata": {},
   "source": [
    "In this section, we're going to create a .db (database) file."
   ]
  },
  {
   "cell_type": "markdown",
   "id": "27b7d839-45e7-4e1d-af3d-c3d85c4cbcfb",
   "metadata": {},
   "source": [
    "### Navigate into the `db` subdirectory"
   ]
  },
  {
   "cell_type": "markdown",
   "id": "c80f02c9-8b5c-4609-981c-921d4542579c",
   "metadata": {},
   "source": [
    "First, we have to move from the root directory into the `db` subdirectory by running the following:"
   ]
  },
  {
   "cell_type": "code",
   "execution_count": null,
   "id": "b06e0002-7573-4e02-876f-497e97046730",
   "metadata": {},
   "outputs": [],
   "source": [
    "os.chdir(os.path.join(gp_path, 'db'))"
   ]
  },
  {
   "cell_type": "markdown",
   "id": "aa0f351d-71a5-4f44-b274-3627d417a8b0",
   "metadata": {},
   "source": [
    "Check that the working directory has been correctly changed:"
   ]
  },
  {
   "cell_type": "code",
   "execution_count": null,
   "id": "d2b6ad40-9f22-45f0-97c2-c4114c8fa110",
   "metadata": {},
   "outputs": [],
   "source": [
    "os.getcwd()"
   ]
  },
  {
   "cell_type": "markdown",
   "id": "791d36d4-3e80-4bf6-910e-6db744ec23ab",
   "metadata": {},
   "source": [
    "See the options available for the create_database.py script:"
   ]
  },
  {
   "cell_type": "code",
   "execution_count": null,
   "id": "a28df806-317f-4b69-8bb4-e7204a7d42b1",
   "metadata": {
    "tags": []
   },
   "outputs": [],
   "source": [
    "%run create_database.py --help"
   ]
  },
  {
   "cell_type": "markdown",
   "id": "d3c60461-07a3-4ab5-8b41-ca8f63002038",
   "metadata": {},
   "source": [
    "Then create an empty database named `sapp.db`:"
   ]
  },
  {
   "cell_type": "code",
   "execution_count": null,
   "id": "2d0b9338-e81a-4c7c-a2e4-305486c1d9eb",
   "metadata": {},
   "outputs": [],
   "source": [
    "%run create_database.py --database sapp.db"
   ]
  },
  {
   "cell_type": "code",
   "execution_count": null,
   "id": "53fff256-b233-4e26-9c77-89cc1b575755",
   "metadata": {
    "tags": []
   },
   "outputs": [],
   "source": [
    "%run utilities/port_csvs_to_db.py --help"
   ]
  },
  {
   "cell_type": "markdown",
   "id": "57295ba5-202d-4eeb-a579-bd0bbe6e9922",
   "metadata": {},
   "source": [
    "Then run that script by pointing to the data in the csvs_test_examples folder and the empty database that you just created:"
   ]
  },
  {
   "cell_type": "code",
   "execution_count": null,
   "id": "84aac83f-e958-4d6a-b077-e3bad254fd74",
   "metadata": {
    "tags": []
   },
   "outputs": [],
   "source": [
    "%run utilities/port_csvs_to_db.py --database sapp.db --csv_location csvs_sapp_GPv0.14.1_workshop_102022"
   ]
  },
  {
   "cell_type": "markdown",
   "id": "612d88f1-95c5-4652-b526-2d73c3fcc8b9",
   "metadata": {},
   "source": [
    "Then we will import the scenarios data using the scenarios.py script in the utilities subfolder. Enter:"
   ]
  },
  {
   "cell_type": "code",
   "execution_count": null,
   "id": "cd317ce9-cad1-4f60-97a8-c1775bccf7ab",
   "metadata": {
    "tags": []
   },
   "outputs": [],
   "source": [
    "%run utilities/scenario.py --database sapp.db --csv_path csvs_sapp_GPv0.14.1_workshop_102022/scenarios_demo.csv"
   ]
  },
  {
   "cell_type": "markdown",
   "id": "52e82d6e-e6d2-47fa-afef-991b094e6390",
   "metadata": {},
   "source": [
    "## Running base scenario for Namibia"
   ]
  },
  {
   "cell_type": "markdown",
   "id": "b9634abb-1e1c-4959-b794-330a32f258b6",
   "metadata": {},
   "source": [
    "To run scenarios, we navigate to the `gridpath` subdirectory within the root path:"
   ]
  },
  {
   "cell_type": "code",
   "execution_count": null,
   "id": "24433151-b992-49e7-a95a-f07f31dbbf19",
   "metadata": {},
   "outputs": [],
   "source": [
    "os.chdir(os.path.join(gp_path, 'gridpath'))"
   ]
  },
  {
   "cell_type": "markdown",
   "id": "be6ebd8a-a4ac-4e09-b452-c29826a27f9d",
   "metadata": {},
   "source": [
    "To run a scenario, we will be using the `run_end_to_end.py` script. To see the options for the script:"
   ]
  },
  {
   "cell_type": "code",
   "execution_count": null,
   "id": "2a68a8a8-c286-4625-b84e-403a2d884b58",
   "metadata": {
    "tags": []
   },
   "outputs": [],
   "source": [
    "%run run_end_to_end.py --help"
   ]
  },
  {
   "cell_type": "markdown",
   "id": "af1c4b3e-0b34-47af-90c8-835233af9fcc",
   "metadata": {},
   "source": [
    "We're going to start off with a simple base model for Namibia. To run the `namibia_base` scenario within the `sapp.db` database, run:"
   ]
  },
  {
   "cell_type": "code",
   "execution_count": null,
   "id": "675a1caf-dfd9-40a3-9310-1f8991538233",
   "metadata": {
    "tags": []
   },
   "outputs": [],
   "source": [
    "%run run_end_to_end.py --database ../db/sapp.db --scenario namibia_base"
   ]
  },
  {
   "cell_type": "markdown",
   "id": "0165a302-0514-4671-93a1-0a9032e894a1",
   "metadata": {},
   "source": [
    "### Visualizing capacity in base scenario"
   ]
  },
  {
   "cell_type": "markdown",
   "id": "c02f21ef-4fc2-45d6-b520-3b6aee3853d5",
   "metadata": {},
   "source": [
    "Next, we will utilize the existing scripts in GridPath to visualize our scenario simulation results. First, let's move from the `gridpath` folder to the `viz` folder:"
   ]
  },
  {
   "cell_type": "code",
   "execution_count": null,
   "id": "52ab6f5d-2c50-48b6-a373-62a239f749c9",
   "metadata": {},
   "outputs": [],
   "source": [
    "os.chdir(os.path.join(gp_path, 'viz'))"
   ]
  },
  {
   "cell_type": "markdown",
   "id": "47232c4f-deee-45aa-9c82-654a430e77f0",
   "metadata": {},
   "source": [
    "### Plotting total capacity"
   ]
  },
  {
   "cell_type": "markdown",
   "id": "cee87944-da9b-4324-b245-6823778e0180",
   "metadata": {},
   "source": [
    "The script that can be used to plot total capacity per period (at the load zone level) is `capacity_total_plot.py`. See what input commands are needed for the script by running:"
   ]
  },
  {
   "cell_type": "code",
   "execution_count": null,
   "id": "c8e1a5d5-63b7-490d-9412-6f5017987347",
   "metadata": {},
   "outputs": [],
   "source": [
    "%run capacity_total_plot.py --help"
   ]
  },
  {
   "cell_type": "markdown",
   "id": "22fba3ef-45fa-4041-93cc-79b364391871",
   "metadata": {},
   "source": [
    "Let's say we want to check the total capacity in Namibia. We can do that by running:"
   ]
  },
  {
   "cell_type": "code",
   "execution_count": null,
   "id": "7b0d6c2d-5dd4-4b82-9759-0de43e096d6c",
   "metadata": {},
   "outputs": [],
   "source": [
    "%run capacity_total_plot.py --database ../db/sapp.db --scenario namibia_base --load_zone Namibia --show"
   ]
  },
  {
   "cell_type": "markdown",
   "id": "60fcf7de-80f7-435a-9156-9681eaccd38c",
   "metadata": {},
   "source": [
    "### Plotting new capacity"
   ]
  },
  {
   "cell_type": "markdown",
   "id": "fa528e4b-bb1a-46b1-b797-34a32a156e37",
   "metadata": {},
   "source": [
    "We can plot only _new_ capacity added each period, using the `capacity_new_plot.py` script. Navigate  the inputs of the script by running:"
   ]
  },
  {
   "cell_type": "code",
   "execution_count": null,
   "id": "88113f17-df6a-42d5-b828-269747479fa7",
   "metadata": {},
   "outputs": [],
   "source": [
    "os.chdir(os.path.join(gp_path, 'viz'))"
   ]
  },
  {
   "cell_type": "code",
   "execution_count": null,
   "id": "7c83f3ef-dd4b-4140-b275-8fc4089dc334",
   "metadata": {},
   "outputs": [],
   "source": [
    "%run capacity_new_plot.py --help"
   ]
  },
  {
   "cell_type": "markdown",
   "id": "3f63bc31-05b1-4d87-a34e-a0b841458edb",
   "metadata": {},
   "source": [
    "Again, checking the new capacity for each period in Namibia:"
   ]
  },
  {
   "cell_type": "code",
   "execution_count": null,
   "id": "12123ab5-177e-4e8f-aee9-9031e1a1ae54",
   "metadata": {},
   "outputs": [],
   "source": [
    "%run capacity_new_plot.py --database ../db/sapp.db --scenario namibia_base --load_zone Namibia --show"
   ]
  },
  {
   "cell_type": "markdown",
   "id": "2a40fae5-bdc6-4bc5-ac65-507d10492245",
   "metadata": {},
   "source": [
    "# More scenarios and visualizations"
   ]
  },
  {
   "cell_type": "markdown",
   "id": "7174fe85-a144-41d0-9a5c-f923d6097930",
   "metadata": {},
   "source": [
    "## Running scenario with only one time period"
   ]
  },
  {
   "cell_type": "markdown",
   "id": "587405f7-fb2d-4fd0-b018-75e99b9a8d50",
   "metadata": {},
   "source": [
    "The base scenario runs on 3 time periods, but we can also change the model to run on any number of time periods, including only one:"
   ]
  },
  {
   "cell_type": "code",
   "execution_count": null,
   "id": "dc2a2e55-36af-4342-829c-4e4171396d33",
   "metadata": {},
   "outputs": [],
   "source": [
    "os.chdir(os.path.join(gp_path, 'gridpath'))"
   ]
  },
  {
   "cell_type": "code",
   "execution_count": null,
   "id": "44bc3649-face-4b11-889b-ecb3b4057052",
   "metadata": {},
   "outputs": [],
   "source": [
    "%run run_end_to_end.py --database ../db/sapp.db --scenario namibia_1period"
   ]
  },
  {
   "cell_type": "markdown",
   "id": "13fc5f61-a53b-4d48-a986-eaca97c835c9",
   "metadata": {
    "tags": []
   },
   "source": [
    "### Plotting dispatch with only one time period"
   ]
  },
  {
   "cell_type": "markdown",
   "id": "af1910f8-112f-46b0-a216-e7c692b2a1d9",
   "metadata": {},
   "source": [
    "We can use the `dispatch_plot.py` script to plot dispatch of electricity for a given scenario and load zone. Enter the following to check the inputs required to run `dispatch_plot.py`:"
   ]
  },
  {
   "cell_type": "code",
   "execution_count": null,
   "id": "64fdf770-d7d6-4cdf-b782-086df3c65511",
   "metadata": {},
   "outputs": [],
   "source": [
    "os.chdir(os.path.join(gp_path, 'viz'))"
   ]
  },
  {
   "cell_type": "code",
   "execution_count": null,
   "id": "dad6ec52-71b7-4b98-864f-ba2879ac715b",
   "metadata": {},
   "outputs": [],
   "source": [
    "%run dispatch_plot.py --help"
   ]
  },
  {
   "cell_type": "markdown",
   "id": "d694cb1d-b519-4d21-beb7-6ce044f10886",
   "metadata": {},
   "source": [
    "To plot the dispatch of generation for the above scenario, run:"
   ]
  },
  {
   "cell_type": "code",
   "execution_count": null,
   "id": "14fe57b9-a1af-442c-bbb9-bacaa79c86ef",
   "metadata": {},
   "outputs": [],
   "source": [
    "%run dispatch_plot.py --database ../db/sapp.db --scenario namibia_1period --load_zone Namibia --show"
   ]
  },
  {
   "cell_type": "markdown",
   "id": "7ef716d1-b8c8-4511-9233-2e9e25bd7ed6",
   "metadata": {
    "tags": []
   },
   "source": [
    "## Running scenario with 80% RPS policy"
   ]
  },
  {
   "cell_type": "markdown",
   "id": "002d8067-11e3-46cd-b22d-1240d97a5bbe",
   "metadata": {},
   "source": [
    "Next, let us try some more scenarios for the Namibia model. Navigate back to the `gridpath` folder and run a scenario with an RPS policy of 80%."
   ]
  },
  {
   "cell_type": "code",
   "execution_count": null,
   "id": "48f04b4f-979c-4fc2-9f0c-313e16de12ab",
   "metadata": {},
   "outputs": [],
   "source": [
    "os.chdir(os.path.join(gp_path, 'gridpath'))"
   ]
  },
  {
   "cell_type": "code",
   "execution_count": null,
   "id": "9af5da5a-969d-4b52-a9ac-508c4ee5fe2c",
   "metadata": {
    "tags": []
   },
   "outputs": [],
   "source": [
    "%run run_end_to_end.py --database ../db/sapp.db --scenario namibia_rps80"
   ]
  },
  {
   "cell_type": "markdown",
   "id": "46a1f818-4159-4e36-93fa-0cea8f8f2ff5",
   "metadata": {},
   "source": [
    "### Plotting energy targets"
   ]
  },
  {
   "cell_type": "markdown",
   "id": "6bea7324-2181-4821-ba61-a89c2f956556",
   "metadata": {},
   "source": [
    "We can use the `energy_target_plot.py` script to visualize our RPS goals and the amount of renewable energy generated each period."
   ]
  },
  {
   "cell_type": "code",
   "execution_count": null,
   "id": "c16d86a5-5253-4911-b1c2-619eab4d7e00",
   "metadata": {},
   "outputs": [],
   "source": [
    "os.chdir(os.path.join(gp_path, 'viz'))"
   ]
  },
  {
   "cell_type": "code",
   "execution_count": null,
   "id": "aa24e0ab-98e3-4aeb-af1d-0bedc68fe51e",
   "metadata": {},
   "outputs": [],
   "source": [
    "%run energy_target_plot.py --help"
   ]
  },
  {
   "cell_type": "code",
   "execution_count": null,
   "id": "f0240b2d-69e1-41f3-b768-22e4cae1ca42",
   "metadata": {},
   "outputs": [],
   "source": [
    "%run energy_target_plot.py --database ../db/sapp.db --scenario namibia_rps80 --energy_target_zone Namibia --show"
   ]
  },
  {
   "cell_type": "markdown",
   "id": "ffa64b64-d580-4fb8-a163-abc550ec00be",
   "metadata": {
    "tags": []
   },
   "source": [
    "## Running scenarios with different cost projections"
   ]
  },
  {
   "cell_type": "markdown",
   "id": "15b46210-aaac-44e2-babb-8bbe0c6a84d8",
   "metadata": {},
   "source": [
    "The base scenario assumes VRE+battery costs decrease over time and conventional fuels increase over time.\n",
    "Let's run a scenario where both VRE+battery costs and conventional fuel costs remain the same over time:"
   ]
  },
  {
   "cell_type": "code",
   "execution_count": null,
   "id": "93b88f53-52a9-4887-9c68-e07c311aca46",
   "metadata": {},
   "outputs": [],
   "source": [
    "os.chdir(os.path.join(gp_path, 'gridpath'))"
   ]
  },
  {
   "cell_type": "code",
   "execution_count": null,
   "id": "b55534e9-b9d7-4307-a5f0-818206e5ac4e",
   "metadata": {
    "tags": []
   },
   "outputs": [],
   "source": [
    "%run run_end_to_end.py --database ../db/sapp.db --scenario namibia_c0p0"
   ]
  },
  {
   "cell_type": "markdown",
   "id": "39452948-e614-4c81-bb46-bfba9f02b7d4",
   "metadata": {
    "tags": []
   },
   "source": [
    "Next, let's run a scenario where VRE+battery costs decrease and fossil fuel costs remain the same:"
   ]
  },
  {
   "cell_type": "code",
   "execution_count": null,
   "id": "f9c42728-f6bd-4a93-9b33-1d49feb8af1f",
   "metadata": {
    "tags": []
   },
   "outputs": [],
   "source": [
    "%run run_end_to_end.py --database ../db/sapp.db --scenario namibia_c1p0"
   ]
  },
  {
   "cell_type": "markdown",
   "id": "949f0998-5a2e-4006-aee9-5873875464bd",
   "metadata": {},
   "source": [
    "### Plotting costs"
   ]
  },
  {
   "cell_type": "markdown",
   "id": "19eb2630-a2ef-4d0c-b929-bebfdc25fb49",
   "metadata": {},
   "source": [
    "We can plot total costs in each period using the `cost_plot.py` script:"
   ]
  },
  {
   "cell_type": "code",
   "execution_count": null,
   "id": "01607915-cc94-4ec2-998a-a87d580418ce",
   "metadata": {},
   "outputs": [],
   "source": [
    "os.chdir(os.path.join(gp_path, 'viz'))"
   ]
  },
  {
   "cell_type": "code",
   "execution_count": null,
   "id": "ad3e3167-82bd-4854-8642-d64ebd2a51e0",
   "metadata": {
    "tags": []
   },
   "outputs": [],
   "source": [
    "%run cost_plot.py --help"
   ]
  },
  {
   "cell_type": "markdown",
   "id": "641eb254-eca0-46a4-b581-36da75e68c96",
   "metadata": {},
   "source": [
    "To plot costs for the two different cost trajectory scenarios:"
   ]
  },
  {
   "cell_type": "code",
   "execution_count": null,
   "id": "c72d9e1e-1180-4906-a7ca-e8308eba9ba4",
   "metadata": {},
   "outputs": [],
   "source": [
    "%run cost_plot.py --database ../db/sapp.db --scenario namibia_c0p0 --load_zone Namibia --show"
   ]
  },
  {
   "cell_type": "code",
   "execution_count": null,
   "id": "7ff3fe9b-4cb7-4933-8770-6a4f38070878",
   "metadata": {},
   "outputs": [],
   "source": [
    "%run cost_plot.py --database ../db/sapp.db --scenario namibia_c1p0 --load_zone Namibia --show"
   ]
  },
  {
   "cell_type": "markdown",
   "id": "22783e43-5234-43f4-ae74-725df10b5c31",
   "metadata": {},
   "source": [
    "## Running scenarios representing dry and wet years  "
   ]
  },
  {
   "cell_type": "markdown",
   "id": "d9363a59-7819-4272-bc4c-f2afdfff6ae4",
   "metadata": {},
   "source": [
    "The base scenario assumes an average year for hydropower production. We can also run a scenario that is representative of a dry year:"
   ]
  },
  {
   "cell_type": "code",
   "execution_count": null,
   "id": "837895ff-b1a3-4e71-9bdf-2e6a6404c6c9",
   "metadata": {},
   "outputs": [],
   "source": [
    "os.chdir(os.path.join(gp_path, 'gridpath'))"
   ]
  },
  {
   "cell_type": "code",
   "execution_count": null,
   "id": "a20abadf-4c73-4ded-a91a-451bdde69511",
   "metadata": {
    "tags": []
   },
   "outputs": [],
   "source": [
    "%run run_end_to_end.py --database ../db/sapp.db --scenario namibia_dry"
   ]
  },
  {
   "cell_type": "markdown",
   "id": "e46e56a4-3190-4c44-840c-3cab82e573a3",
   "metadata": {},
   "source": [
    "Conversely, we can run a scenario representing a wet year as well:"
   ]
  },
  {
   "cell_type": "code",
   "execution_count": null,
   "id": "d06d7caa-55db-49bb-a09d-2ba6e8f99a33",
   "metadata": {
    "tags": []
   },
   "outputs": [],
   "source": [
    "%run run_end_to_end.py --database ../db/sapp.db --scenario namibia_wet"
   ]
  },
  {
   "cell_type": "markdown",
   "id": "a1ee9633-aabb-4693-b841-08de982cc02d",
   "metadata": {
    "tags": []
   },
   "source": [
    "### Plotting dispatch under wet and dry years"
   ]
  },
  {
   "cell_type": "markdown",
   "id": "59a054ba-c5e8-4b57-9a02-9996ce064e49",
   "metadata": {},
   "source": [
    "We can use the `dispatch_plot.py` again to plot dispatch for the two scenarios and see the difference in hydro generation."
   ]
  },
  {
   "cell_type": "code",
   "execution_count": null,
   "id": "07f42311-b44b-4188-a1ba-ccdac74bc303",
   "metadata": {},
   "outputs": [],
   "source": [
    "os.chdir(os.path.join(gp_path, 'viz'))"
   ]
  },
  {
   "cell_type": "code",
   "execution_count": null,
   "id": "6cd42a17-dc82-4695-ba9a-93429a2ed678",
   "metadata": {},
   "outputs": [],
   "source": [
    "%run dispatch_plot.py --database ../db/sapp.db --scenario namibia_dry --load_zone Namibia --show"
   ]
  },
  {
   "cell_type": "code",
   "execution_count": null,
   "id": "67c0fec3-2884-4e88-af13-617f00f513d3",
   "metadata": {},
   "outputs": [],
   "source": [
    "%run dispatch_plot.py --database ../db/sapp.db --scenario namibia_wet --load_zone Namibia --show"
   ]
  },
  {
   "cell_type": "markdown",
   "id": "7f526bf5-c61c-4b25-8a59-5a9bfac2ecd7",
   "metadata": {},
   "source": [
    "## Running base scenario for South Africa"
   ]
  },
  {
   "cell_type": "markdown",
   "id": "8da556c5-e2df-479b-bed5-794c8edfc188",
   "metadata": {},
   "source": [
    "Let's move to a different country and run a simple base scenario for South Africa and plot the dispatch:"
   ]
  },
  {
   "cell_type": "code",
   "execution_count": null,
   "id": "e7e3bd41-347f-433e-bb11-52ad975305e6",
   "metadata": {},
   "outputs": [],
   "source": [
    "os.chdir(os.path.join(gp_path, 'gridpath'))"
   ]
  },
  {
   "cell_type": "code",
   "execution_count": null,
   "id": "191db8d0-2408-48d1-92e5-6cabcd63bede",
   "metadata": {
    "tags": []
   },
   "outputs": [],
   "source": [
    "%run run_end_to_end.py --database ../db/sapp.db --scenario south_africa_base"
   ]
  },
  {
   "cell_type": "markdown",
   "id": "c70f218c-0daa-4c96-9639-60c33dde6b0b",
   "metadata": {},
   "source": [
    "### Plotting dispatch for South Africa base scenario"
   ]
  },
  {
   "cell_type": "markdown",
   "id": "a2649188-b925-477b-bcd5-25209d330514",
   "metadata": {},
   "source": [
    "To plot the dispatch of generation for South Africa's base scenario, run:"
   ]
  },
  {
   "cell_type": "code",
   "execution_count": null,
   "id": "9a3924da-ce82-414a-8ce5-bfad79aefaa9",
   "metadata": {},
   "outputs": [],
   "source": [
    "os.chdir(os.path.join(gp_path, 'viz'))"
   ]
  },
  {
   "cell_type": "code",
   "execution_count": null,
   "id": "b213468e-11e2-4699-aa6d-7d517558aa7a",
   "metadata": {},
   "outputs": [],
   "source": [
    "%run dispatch_plot.py --database ../db/sapp.db --scenario south_africa_base --load_zone SouthAfrica --show"
   ]
  },
  {
   "cell_type": "markdown",
   "id": "84bd741f-be8d-475f-b5f4-8d68e30aecf9",
   "metadata": {},
   "source": [
    "### Running a scenario for all of SAPP, with unlimited transmission"
   ]
  },
  {
   "cell_type": "markdown",
   "id": "db82220b-87f2-4b00-a9dd-f7947a50f1c9",
   "metadata": {},
   "source": [
    "For the next step, let's move from running a scenario at the country level and onto the entire SAPP region. We have a scenario titled `sapp_unlimited_tx` that has all SAPP countries but allows for unlimited transmission. We also have other scenarios added for SAPP that are more realistic, but those take too long to run using the Cbc solver, so for now let's run the unlimited transmission scenario.\n",
    "\n",
    "**Note that this scenario took about 15 minutes to run on my laptop.**"
   ]
  },
  {
   "cell_type": "code",
   "execution_count": null,
   "id": "c3f9e2fb-c97c-4ff9-a73f-48973a65a9b5",
   "metadata": {},
   "outputs": [],
   "source": [
    "os.chdir(os.path.join(gp_path, 'gridpath'))"
   ]
  },
  {
   "cell_type": "code",
   "execution_count": null,
   "id": "01255e92-efd8-4865-88a9-e9fda0adf780",
   "metadata": {
    "tags": []
   },
   "outputs": [],
   "source": [
    "%run run_end_to_end.py --database ../db/sapp.db --scenario sapp_unlimited_tx"
   ]
  },
  {
   "cell_type": "markdown",
   "id": "7c71e987-b754-461c-9602-d590f8c721f7",
   "metadata": {},
   "source": [
    "### Plotting comparison of total capacity between load zones"
   ]
  },
  {
   "cell_type": "markdown",
   "id": "7cdcadd2-afd0-4ddd-a3a4-67ebf35dea56",
   "metadata": {},
   "source": [
    "Let's say we want to compare total capacity in each period across load zones. We can achieve that easily by using the `capacity_total_loadzone_comparison_plot.py` script:"
   ]
  },
  {
   "cell_type": "code",
   "execution_count": null,
   "id": "e1cc918c-07b4-4a45-b201-5a7247a6d5b0",
   "metadata": {},
   "outputs": [],
   "source": [
    "os.chdir(os.path.join(gp_path, 'viz'))"
   ]
  },
  {
   "cell_type": "code",
   "execution_count": null,
   "id": "6a9bd51e-409c-4f0f-a867-679b6de27914",
   "metadata": {
    "tags": []
   },
   "outputs": [],
   "source": [
    "%run capacity_total_loadzone_comparison_plot.py --help"
   ]
  },
  {
   "cell_type": "markdown",
   "id": "525daf77-92e2-4046-90c3-73911cc4d5db",
   "metadata": {},
   "source": [
    "In this script, we do not need to specify a load zone. Instead, we need to specify a period, and the script will compare total capacities across all load zones within that period. For example, we can use the following to compare total capacity in the period 2030:"
   ]
  },
  {
   "cell_type": "code",
   "execution_count": null,
   "id": "12418d91-9a1e-41f7-b023-b8523da5d2fa",
   "metadata": {},
   "outputs": [],
   "source": [
    "%run capacity_total_loadzone_comparison_plot.py --database ../db/sapp.db --scenario sapp_unlimited_tx --period 2030 --show "
   ]
  },
  {
   "cell_type": "code",
   "execution_count": null,
   "id": "a04f6e79-1887-4b69-b334-3301657bf020",
   "metadata": {},
   "outputs": [],
   "source": []
  }
 ],
 "metadata": {
  "kernelspec": {
   "display_name": "Python 3 (ipykernel)",
   "language": "python",
   "name": "python3"
  },
  "language_info": {
   "codemirror_mode": {
    "name": "ipython",
    "version": 3
   },
   "file_extension": ".py",
   "mimetype": "text/x-python",
   "name": "python",
   "nbconvert_exporter": "python",
   "pygments_lexer": "ipython3",
   "version": "3.9.13"
  }
 },
 "nbformat": 4,
 "nbformat_minor": 5
}
