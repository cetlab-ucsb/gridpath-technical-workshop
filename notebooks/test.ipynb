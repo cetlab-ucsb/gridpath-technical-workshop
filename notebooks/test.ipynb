{
 "cells": [
  {
   "cell_type": "markdown",
   "id": "6aebc896-c581-42ca-9e42-9b1ed0f3780a",
   "metadata": {
    "tags": []
   },
   "source": [
    "# Running scenarios"
   ]
  },
  {
   "cell_type": "code",
   "execution_count": null,
   "id": "06f5da08-2f9d-448e-90cf-c2efac3d3482",
   "metadata": {},
   "outputs": [],
   "source": [
    "!pwd"
   ]
  },
  {
   "cell_type": "code",
   "execution_count": null,
   "id": "a12ed321-5bc6-4de5-8a78-9acb234a0e9e",
   "metadata": {},
   "outputs": [],
   "source": [
    "import os"
   ]
  },
  {
   "cell_type": "code",
   "execution_count": null,
   "id": "e59a112c-8d95-465b-8a85-fe46fafc6daf",
   "metadata": {},
   "outputs": [],
   "source": [
    "os.chdir('/Users/meas/Documents/gridpath-0.14.1/db')"
   ]
  },
  {
   "cell_type": "code",
   "execution_count": null,
   "id": "9427553d-a156-47e4-a04b-c0fdbf9187f1",
   "metadata": {},
   "outputs": [],
   "source": [
    "%run create_database.py --database jupyter.db"
   ]
  },
  {
   "cell_type": "code",
   "execution_count": null,
   "id": "fbc5f3a8-d62e-42e7-9ae7-17ca5d82f8aa",
   "metadata": {
    "tags": []
   },
   "outputs": [],
   "source": [
    "%run utilities/port_csvs_to_db.py --database jupyter.db --csv_location csvs_reds_102022"
   ]
  },
  {
   "cell_type": "code",
   "execution_count": null,
   "id": "aec7f7e4-1c0f-41ba-8ca4-5e784c084b65",
   "metadata": {
    "tags": []
   },
   "outputs": [],
   "source": [
    "%run utilities/scenario.py --database jupyter.db --csv_path csvs_reds_102022/scenarios_workshop.csv"
   ]
  },
  {
   "cell_type": "code",
   "execution_count": null,
   "id": "b7b96b9b-22d4-471c-af70-e351ab09ef79",
   "metadata": {},
   "outputs": [],
   "source": [
    "os.chdir('/Users/meas/Documents/gridpath-0.14.1/gridpath')"
   ]
  },
  {
   "cell_type": "code",
   "execution_count": null,
   "id": "ffff5574-be1f-4c4a-aa8c-74297677dec2",
   "metadata": {
    "tags": []
   },
   "outputs": [],
   "source": [
    "%run run_end_to_end.py --database ../db/jupyter.db --scenario env_r65_wk_simple1"
   ]
  },
  {
   "cell_type": "code",
   "execution_count": null,
   "id": "68a2a586-5f74-4c2b-b1ce-4675dd6d7df0",
   "metadata": {},
   "outputs": [],
   "source": []
  }
 ],
 "metadata": {
  "kernelspec": {
   "display_name": "Python 3 (ipykernel)",
   "language": "python",
   "name": "python3"
  },
  "language_info": {
   "codemirror_mode": {
    "name": "ipython",
    "version": 3
   },
   "file_extension": ".py",
   "mimetype": "text/x-python",
   "name": "python",
   "nbconvert_exporter": "python",
   "pygments_lexer": "ipython3",
   "version": "3.8.10"
  }
 },
 "nbformat": 4,
 "nbformat_minor": 5
}
