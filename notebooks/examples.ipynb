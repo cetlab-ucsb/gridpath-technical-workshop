{
 "cells": [
  {
   "cell_type": "markdown",
   "id": "e626a4c5-e005-4603-a1f5-b3b0203e130e",
   "metadata": {},
   "source": [
    "# Running Simple Example Models and Scenarios "
   ]
  },
  {
   "cell_type": "markdown",
   "id": "a231f3f8-1deb-4b60-9d33-9fdb930a8b65",
   "metadata": {},
   "source": [
    "## Loading necessary packages"
   ]
  },
  {
   "cell_type": "code",
   "execution_count": null,
   "id": "59f3f8dd-683d-457a-8fc6-28b16090dc90",
   "metadata": {},
   "outputs": [],
   "source": [
    "import os"
   ]
  },
  {
   "cell_type": "markdown",
   "id": "72e6edbc-9da2-408a-8be2-c0ca750d5676",
   "metadata": {},
   "source": [
    "### Input your root GridPath directory"
   ]
  },
  {
   "cell_type": "markdown",
   "id": "e83e1375-8683-4eed-8613-43f4fded40b9",
   "metadata": {},
   "source": [
    "In the cell below, paste your root GridPath path between the quotation marks. Be sure to comment out the part that is not your operating system."
   ]
  },
  {
   "cell_type": "code",
   "execution_count": null,
   "id": "f8276fc2-cba9-40a8-b7a9-9a9b530ba305",
   "metadata": {},
   "outputs": [],
   "source": [
    "gp_path = 'C:\\\\Users\\\\mmeng.NETID' # windows\n",
    "gp_path = '/Users/meas/Documents/gridpath-0.14.1' # macOS"
   ]
  },
  {
   "cell_type": "markdown",
   "id": "fba983b3-ea20-429d-88dd-862108be63dd",
   "metadata": {},
   "source": [
    "This line below sets the working directory to `PATH\\TO\\GRIDPATH`"
   ]
  },
  {
   "cell_type": "code",
   "execution_count": null,
   "id": "64e87e46-8f66-495e-96be-932c1b793a9e",
   "metadata": {},
   "outputs": [],
   "source": [
    "os.chdir(gp_path)"
   ]
  },
  {
   "cell_type": "markdown",
   "id": "52eaf53c-e352-49d5-93ae-5f25f410896d",
   "metadata": {},
   "source": [
    "Check the working directory is correctly set:"
   ]
  },
  {
   "cell_type": "code",
   "execution_count": null,
   "id": "678c8ca8-2b7f-4a4e-a00f-aae9e7b2b70c",
   "metadata": {},
   "outputs": [],
   "source": [
    "!cd # windows\n",
    "!pwd # macOS"
   ]
  },
  {
   "cell_type": "markdown",
   "id": "62783941-8714-4acc-bdb6-57f8ed35052e",
   "metadata": {},
   "source": [
    "## Create a .db file"
   ]
  },
  {
   "cell_type": "markdown",
   "id": "11515044-3a62-497a-ad76-69acc2032512",
   "metadata": {},
   "source": [
    "In this section, we're going to create a .db (database) file."
   ]
  },
  {
   "cell_type": "markdown",
   "id": "8413c638-2093-4d4c-a3f7-71f24e3a9b4d",
   "metadata": {},
   "source": [
    "### Navigate into the `db` subdirectory"
   ]
  },
  {
   "cell_type": "markdown",
   "id": "b0da248b-c17a-4195-aa22-62cf3eef9d7a",
   "metadata": {},
   "source": [
    "First, we have to move from the root directory into the `db` subdirectory by running the following:"
   ]
  },
  {
   "cell_type": "code",
   "execution_count": null,
   "id": "d6d36de1-8bae-4234-9e2f-3bb3fa2986be",
   "metadata": {},
   "outputs": [],
   "source": [
    "os.chdir(os.path.join(gp_path, 'db'))"
   ]
  },
  {
   "cell_type": "markdown",
   "id": "be45d978-ed3d-4e38-8471-285ef97339b3",
   "metadata": {},
   "source": [
    "Check that the working directory has been correctly changed:"
   ]
  },
  {
   "cell_type": "code",
   "execution_count": null,
   "id": "b3d68df8-2265-4954-bde7-350da9d40bdf",
   "metadata": {},
   "outputs": [],
   "source": [
    "!cd # windows\n",
    "!pwd # macOS"
   ]
  },
  {
   "cell_type": "markdown",
   "id": "18c0965a-f26d-4563-a3ac-11561604434a",
   "metadata": {},
   "source": [
    "See the options available for the create_database.py script:"
   ]
  },
  {
   "cell_type": "code",
   "execution_count": null,
   "id": "79259e7e-3d36-424a-8bc3-d1881f9b27ec",
   "metadata": {},
   "outputs": [],
   "source": [
    "%run create_database.py --help"
   ]
  },
  {
   "cell_type": "markdown",
   "id": "de01a828-5ad9-49d9-bc7c-401e157a6367",
   "metadata": {},
   "source": [
    "Then create an empty database:"
   ]
  },
  {
   "cell_type": "code",
   "execution_count": null,
   "id": "f6e0c9ad-dd26-4829-8a23-35ae97ffe40a",
   "metadata": {},
   "outputs": [],
   "source": [
    "%run create_database.py --database csv_examples.db"
   ]
  },
  {
   "cell_type": "markdown",
   "id": "aa1f6460-5894-4ccc-98f1-e4549f515407",
   "metadata": {},
   "source": [
    "Then, we will populate the database using data in the csvs_test_examples folder using a script in the db/utilities folder called port_csvs_to_db.py. The database is populated in two stages. All input data is populated using the next step. And then the inputs to the specific scenarios, which is in scenarios.py is uploaded in the second stage. To see the options available for this script, enter:"
   ]
  },
  {
   "cell_type": "code",
   "execution_count": null,
   "id": "80d2fba3-02c7-47ee-b9b8-dff0e844e321",
   "metadata": {},
   "outputs": [],
   "source": [
    "%run utilities/port_csvs_to_db.py --help"
   ]
  },
  {
   "cell_type": "markdown",
   "id": "b920e55d-9678-4f25-ac24-8e78a004f31e",
   "metadata": {},
   "source": [
    "Then run that script by pointing to the data in the csvs_test_examples folder and the empty database that you just created:"
   ]
  },
  {
   "cell_type": "code",
   "execution_count": null,
   "id": "0b76f4c1-fc23-46ca-a9dc-0387b1b7c9a9",
   "metadata": {
    "tags": []
   },
   "outputs": [],
   "source": [
    "%run utilities/port_csvs_to_db.py --database csv_examples.db --csv_location csvs_test_examples "
   ]
  },
  {
   "cell_type": "markdown",
   "id": "55537aa0-bc82-446e-a759-5ed68e6864c1",
   "metadata": {},
   "source": [
    "Then we will import the scenarios data using the scenarios.py script in the utilities subfolder. Enter:"
   ]
  },
  {
   "cell_type": "code",
   "execution_count": null,
   "id": "9a077f54-25e1-4ca1-8108-e2602529bae2",
   "metadata": {},
   "outputs": [],
   "source": [
    "%run utilities/scenario.py --database csv_examples.db --csv_path csvs_test_examples/scenarios.csv"
   ]
  },
  {
   "cell_type": "code",
   "execution_count": null,
   "id": "2cf21a21-abaf-45ab-be47-3970a0306a9c",
   "metadata": {},
   "outputs": [],
   "source": [
    "os.chdir(os.path.join(gp_path, 'gridpath'))"
   ]
  },
  {
   "cell_type": "code",
   "execution_count": null,
   "id": "c3762fff-125f-47e6-a1d4-5fe9585f6c59",
   "metadata": {},
   "outputs": [],
   "source": [
    "%run run_end_to_end.py --help"
   ]
  },
  {
   "cell_type": "code",
   "execution_count": null,
   "id": "4675f62d-2e89-4b4b-a120-39fb7801ffa8",
   "metadata": {
    "tags": []
   },
   "outputs": [],
   "source": [
    "%run run_end_to_end.py --database ../db/csv_examples.db --scenario 2periods_new_build_2zones_transmission"
   ]
  },
  {
   "cell_type": "markdown",
   "id": "aa859278-21fc-4882-9cf7-e02626ab43cc",
   "metadata": {},
   "source": [
    "## Visualizations"
   ]
  },
  {
   "cell_type": "code",
   "execution_count": null,
   "id": "b0e8e539-f1a1-42b1-95ca-30955f16effb",
   "metadata": {},
   "outputs": [],
   "source": [
    "os.chdir(os.path.join(gp_path, 'viz'))"
   ]
  },
  {
   "cell_type": "code",
   "execution_count": null,
   "id": "02d59ee4-1000-4793-a849-69edbb0e93c1",
   "metadata": {},
   "outputs": [],
   "source": [
    "%run capacity_total_plot.py --help"
   ]
  },
  {
   "cell_type": "code",
   "execution_count": null,
   "id": "75ab756e-4d9f-455a-943b-592f1be5db49",
   "metadata": {},
   "outputs": [],
   "source": [
    "%run capacity_total_plot.py --database ../db/csv_examples.db --scenario 2periods_new_build_2zones_transmission --load_zone Zone1 --show"
   ]
  },
  {
   "cell_type": "code",
   "execution_count": null,
   "id": "5c17749d-a80e-4bb5-b303-c667ba9018ab",
   "metadata": {},
   "outputs": [],
   "source": [
    "%run capacity_new_plot.py --database ../db/csv_examples.db --scenario 2periods_new_build_2zones_transmission --load_zone Zone1 --show"
   ]
  }
 ],
 "metadata": {
  "kernelspec": {
   "display_name": "Python 3 (ipykernel)",
   "language": "python",
   "name": "python3"
  },
  "language_info": {
   "codemirror_mode": {
    "name": "ipython",
    "version": 3
   },
   "file_extension": ".py",
   "mimetype": "text/x-python",
   "name": "python",
   "nbconvert_exporter": "python",
   "pygments_lexer": "ipython3",
   "version": "3.9.13"
  }
 },
 "nbformat": 4,
 "nbformat_minor": 5
}
